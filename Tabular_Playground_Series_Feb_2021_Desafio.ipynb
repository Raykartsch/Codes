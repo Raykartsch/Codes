{
  "nbformat": 4,
  "nbformat_minor": 0,
  "metadata": {
    "colab": {
      "name": "Tabular Playground Series - Feb 2021 - Desafio.ipynb",
      "provenance": [],
      "toc_visible": true
    },
    "kernelspec": {
      "display_name": "Python 3",
      "name": "python3"
    }
  },
  "cells": [
    {
      "cell_type": "markdown",
      "metadata": {
        "id": "zznNBGj3m8CI"
      },
      "source": [
        "O objetivo deste desafio é reduzir o erro médio quadrático!"
      ]
    },
    {
      "cell_type": "code",
      "metadata": {
        "id": "Ypkg1BVXa8b0"
      },
      "source": [
        "import numpy as np\r\n",
        "import pandas as pd\r\n",
        "import seaborn as sns\r\n",
        "import matplotlib.pyplot as plt"
      ],
      "execution_count": null,
      "outputs": []
    },
    {
      "cell_type": "code",
      "metadata": {
        "colab": {
          "resources": {
            "http://localhost:8080/nbextensions/google.colab/files.js": {
              "data": "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",
              "ok": true,
              "headers": [
                [
                  "content-type",
                  "application/javascript"
                ]
              ],
              "status": 200,
              "status_text": ""
            }
          },
          "base_uri": "https://localhost:8080/",
          "height": 89
        },
        "id": "DIejNQBlB6nG",
        "outputId": "18165e5c-5c8c-49ce-a19d-cf4ad5e353f8"
      },
      "source": [
        "from google.colab import files\r\n",
        "files.upload()"
      ],
      "execution_count": null,
      "outputs": [
        {
          "output_type": "display_data",
          "data": {
            "text/html": [
              "\n",
              "     <input type=\"file\" id=\"files-b7c41be6-d037-4d79-b7bf-0089922095ad\" name=\"files[]\" multiple disabled\n",
              "        style=\"border:none\" />\n",
              "     <output id=\"result-b7c41be6-d037-4d79-b7bf-0089922095ad\">\n",
              "      Upload widget is only available when the cell has been executed in the\n",
              "      current browser session. Please rerun this cell to enable.\n",
              "      </output>\n",
              "      <script src=\"/nbextensions/google.colab/files.js\"></script> "
            ],
            "text/plain": [
              "<IPython.core.display.HTML object>"
            ]
          },
          "metadata": {
            "tags": []
          }
        },
        {
          "output_type": "stream",
          "text": [
            "Saving kaggle.json to kaggle.json\n"
          ],
          "name": "stdout"
        },
        {
          "output_type": "execute_result",
          "data": {
            "text/plain": [
              "{'kaggle.json': b'{\"username\":\"italoventura\",\"key\":\"7a845db0a8431c7294925753816fafcc\"}'}"
            ]
          },
          "metadata": {
            "tags": []
          },
          "execution_count": 2
        }
      ]
    },
    {
      "cell_type": "code",
      "metadata": {
        "colab": {
          "base_uri": "https://localhost:8080/"
        },
        "id": "VuZIGizaB9Us",
        "outputId": "a34cb247-0dbc-479d-e21d-cf9abe63e7ae"
      },
      "source": [
        "!mkdir -p ~/.kaggle\r\n",
        "!cp kaggle.json ~/.kaggle/\r\n",
        "!chmod 600 ~/.kaggle/kaggle.json\r\n",
        "!ls -l ~/.kaggle\r\n",
        "!cat ~/.kaggle/kaggle.json"
      ],
      "execution_count": null,
      "outputs": [
        {
          "output_type": "stream",
          "text": [
            "total 4\n",
            "-rw------- 1 root root 68 Feb  9 02:42 kaggle.json\n",
            "{\"username\":\"italoventura\",\"key\":\"7a845db0a8431c7294925753816fafcc\"}"
          ],
          "name": "stdout"
        }
      ]
    },
    {
      "cell_type": "code",
      "metadata": {
        "colab": {
          "base_uri": "https://localhost:8080/"
        },
        "id": "tyhRC6HgCGgd",
        "outputId": "c3a4b845-bf68-4e86-8af7-1cd65a85e8f1"
      },
      "source": [
        "!kaggle competitions download -c tabular-playground-series-feb-2021"
      ],
      "execution_count": null,
      "outputs": [
        {
          "output_type": "stream",
          "text": [
            "Warning: Looks like you're using an outdated API Version, please consider updating (server 1.5.10 / client 1.5.4)\n",
            "Downloading train.csv.zip to /content\n",
            " 87% 35.0M/40.2M [00:01<00:00, 7.01MB/s]\n",
            "100% 40.2M/40.2M [00:01<00:00, 22.0MB/s]\n",
            "Downloading sample_submission.csv.zip to /content\n",
            "  0% 0.00/470k [00:00<?, ?B/s]\n",
            "100% 470k/470k [00:00<00:00, 65.1MB/s]\n",
            "Downloading test.csv.zip to /content\n",
            " 68% 17.0M/25.1M [00:01<00:01, 5.45MB/s]\n",
            "100% 25.1M/25.1M [00:01<00:00, 15.7MB/s]\n"
          ],
          "name": "stdout"
        }
      ]
    },
    {
      "cell_type": "code",
      "metadata": {
        "colab": {
          "base_uri": "https://localhost:8080/"
        },
        "id": "y5qrL4hkCofQ",
        "outputId": "9213a933-2f87-40f9-875b-16be73d5703a"
      },
      "source": [
        "!unzip sample_submission.csv.zip\r\n",
        "!unzip test.csv.zip\r\n",
        "!unzip train.csv.zip\r\n"
      ],
      "execution_count": null,
      "outputs": [
        {
          "output_type": "stream",
          "text": [
            "Archive:  sample_submission.csv.zip\n",
            "  inflating: sample_submission.csv   \n",
            "Archive:  test.csv.zip\n",
            "  inflating: test.csv                \n",
            "Archive:  train.csv.zip\n",
            "  inflating: train.csv               \n"
          ],
          "name": "stdout"
        }
      ]
    },
    {
      "cell_type": "code",
      "metadata": {
        "id": "Uqog4c05CKJZ"
      },
      "source": [
        "sample_submission = pd.read_csv(\"/content/sample_submission.csv\")\r\n",
        "data_test = pd.read_csv(\"/content/test.csv\")\r\n",
        "data_train = pd.read_csv(\"/content/train.csv\")"
      ],
      "execution_count": null,
      "outputs": []
    },
    {
      "cell_type": "code",
      "metadata": {
        "colab": {
          "base_uri": "https://localhost:8080/",
          "height": 439
        },
        "id": "PacmwgmfDAvb",
        "outputId": "e58abb16-d15c-42d8-aecc-b889b083197b"
      },
      "source": [
        "data_train"
      ],
      "execution_count": null,
      "outputs": [
        {
          "output_type": "execute_result",
          "data": {
            "text/html": [
              "<div>\n",
              "<style scoped>\n",
              "    .dataframe tbody tr th:only-of-type {\n",
              "        vertical-align: middle;\n",
              "    }\n",
              "\n",
              "    .dataframe tbody tr th {\n",
              "        vertical-align: top;\n",
              "    }\n",
              "\n",
              "    .dataframe thead th {\n",
              "        text-align: right;\n",
              "    }\n",
              "</style>\n",
              "<table border=\"1\" class=\"dataframe\">\n",
              "  <thead>\n",
              "    <tr style=\"text-align: right;\">\n",
              "      <th></th>\n",
              "      <th>id</th>\n",
              "      <th>cat0</th>\n",
              "      <th>cat1</th>\n",
              "      <th>cat2</th>\n",
              "      <th>cat3</th>\n",
              "      <th>cat4</th>\n",
              "      <th>cat5</th>\n",
              "      <th>cat6</th>\n",
              "      <th>cat7</th>\n",
              "      <th>cat8</th>\n",
              "      <th>cat9</th>\n",
              "      <th>cont0</th>\n",
              "      <th>cont1</th>\n",
              "      <th>cont2</th>\n",
              "      <th>cont3</th>\n",
              "      <th>cont4</th>\n",
              "      <th>cont5</th>\n",
              "      <th>cont6</th>\n",
              "      <th>cont7</th>\n",
              "      <th>cont8</th>\n",
              "      <th>cont9</th>\n",
              "      <th>cont10</th>\n",
              "      <th>cont11</th>\n",
              "      <th>cont12</th>\n",
              "      <th>cont13</th>\n",
              "      <th>target</th>\n",
              "    </tr>\n",
              "  </thead>\n",
              "  <tbody>\n",
              "    <tr>\n",
              "      <th>0</th>\n",
              "      <td>1</td>\n",
              "      <td>A</td>\n",
              "      <td>B</td>\n",
              "      <td>A</td>\n",
              "      <td>A</td>\n",
              "      <td>B</td>\n",
              "      <td>D</td>\n",
              "      <td>A</td>\n",
              "      <td>E</td>\n",
              "      <td>C</td>\n",
              "      <td>I</td>\n",
              "      <td>0.923191</td>\n",
              "      <td>0.684968</td>\n",
              "      <td>0.124454</td>\n",
              "      <td>0.217886</td>\n",
              "      <td>0.281421</td>\n",
              "      <td>0.881122</td>\n",
              "      <td>0.421650</td>\n",
              "      <td>0.741413</td>\n",
              "      <td>0.895799</td>\n",
              "      <td>0.802461</td>\n",
              "      <td>0.724417</td>\n",
              "      <td>0.701915</td>\n",
              "      <td>0.877618</td>\n",
              "      <td>0.719903</td>\n",
              "      <td>6.994023</td>\n",
              "    </tr>\n",
              "    <tr>\n",
              "      <th>1</th>\n",
              "      <td>2</td>\n",
              "      <td>B</td>\n",
              "      <td>A</td>\n",
              "      <td>A</td>\n",
              "      <td>A</td>\n",
              "      <td>B</td>\n",
              "      <td>B</td>\n",
              "      <td>A</td>\n",
              "      <td>E</td>\n",
              "      <td>A</td>\n",
              "      <td>F</td>\n",
              "      <td>0.437627</td>\n",
              "      <td>0.014213</td>\n",
              "      <td>0.357438</td>\n",
              "      <td>0.846127</td>\n",
              "      <td>0.282354</td>\n",
              "      <td>0.440011</td>\n",
              "      <td>0.346230</td>\n",
              "      <td>0.278495</td>\n",
              "      <td>0.593413</td>\n",
              "      <td>0.546056</td>\n",
              "      <td>0.613252</td>\n",
              "      <td>0.741289</td>\n",
              "      <td>0.326679</td>\n",
              "      <td>0.808464</td>\n",
              "      <td>8.071256</td>\n",
              "    </tr>\n",
              "    <tr>\n",
              "      <th>2</th>\n",
              "      <td>3</td>\n",
              "      <td>A</td>\n",
              "      <td>A</td>\n",
              "      <td>A</td>\n",
              "      <td>C</td>\n",
              "      <td>B</td>\n",
              "      <td>D</td>\n",
              "      <td>A</td>\n",
              "      <td>B</td>\n",
              "      <td>C</td>\n",
              "      <td>N</td>\n",
              "      <td>0.732209</td>\n",
              "      <td>0.760122</td>\n",
              "      <td>0.454644</td>\n",
              "      <td>0.812990</td>\n",
              "      <td>0.293756</td>\n",
              "      <td>0.914155</td>\n",
              "      <td>0.369602</td>\n",
              "      <td>0.832564</td>\n",
              "      <td>0.865620</td>\n",
              "      <td>0.825251</td>\n",
              "      <td>0.264104</td>\n",
              "      <td>0.695561</td>\n",
              "      <td>0.869133</td>\n",
              "      <td>0.828352</td>\n",
              "      <td>5.760456</td>\n",
              "    </tr>\n",
              "    <tr>\n",
              "      <th>3</th>\n",
              "      <td>4</td>\n",
              "      <td>A</td>\n",
              "      <td>A</td>\n",
              "      <td>A</td>\n",
              "      <td>C</td>\n",
              "      <td>B</td>\n",
              "      <td>D</td>\n",
              "      <td>A</td>\n",
              "      <td>E</td>\n",
              "      <td>G</td>\n",
              "      <td>K</td>\n",
              "      <td>0.705142</td>\n",
              "      <td>0.771678</td>\n",
              "      <td>0.153735</td>\n",
              "      <td>0.732893</td>\n",
              "      <td>0.769785</td>\n",
              "      <td>0.934138</td>\n",
              "      <td>0.578930</td>\n",
              "      <td>0.407313</td>\n",
              "      <td>0.868099</td>\n",
              "      <td>0.794402</td>\n",
              "      <td>0.494269</td>\n",
              "      <td>0.698125</td>\n",
              "      <td>0.809799</td>\n",
              "      <td>0.614766</td>\n",
              "      <td>7.806457</td>\n",
              "    </tr>\n",
              "    <tr>\n",
              "      <th>4</th>\n",
              "      <td>6</td>\n",
              "      <td>A</td>\n",
              "      <td>B</td>\n",
              "      <td>A</td>\n",
              "      <td>A</td>\n",
              "      <td>B</td>\n",
              "      <td>B</td>\n",
              "      <td>A</td>\n",
              "      <td>E</td>\n",
              "      <td>C</td>\n",
              "      <td>F</td>\n",
              "      <td>0.486063</td>\n",
              "      <td>0.639349</td>\n",
              "      <td>0.496212</td>\n",
              "      <td>0.354186</td>\n",
              "      <td>0.279105</td>\n",
              "      <td>0.382600</td>\n",
              "      <td>0.705940</td>\n",
              "      <td>0.325193</td>\n",
              "      <td>0.440967</td>\n",
              "      <td>0.462146</td>\n",
              "      <td>0.724447</td>\n",
              "      <td>0.683073</td>\n",
              "      <td>0.343457</td>\n",
              "      <td>0.297743</td>\n",
              "      <td>6.868974</td>\n",
              "    </tr>\n",
              "    <tr>\n",
              "      <th>...</th>\n",
              "      <td>...</td>\n",
              "      <td>...</td>\n",
              "      <td>...</td>\n",
              "      <td>...</td>\n",
              "      <td>...</td>\n",
              "      <td>...</td>\n",
              "      <td>...</td>\n",
              "      <td>...</td>\n",
              "      <td>...</td>\n",
              "      <td>...</td>\n",
              "      <td>...</td>\n",
              "      <td>...</td>\n",
              "      <td>...</td>\n",
              "      <td>...</td>\n",
              "      <td>...</td>\n",
              "      <td>...</td>\n",
              "      <td>...</td>\n",
              "      <td>...</td>\n",
              "      <td>...</td>\n",
              "      <td>...</td>\n",
              "      <td>...</td>\n",
              "      <td>...</td>\n",
              "      <td>...</td>\n",
              "      <td>...</td>\n",
              "      <td>...</td>\n",
              "      <td>...</td>\n",
              "    </tr>\n",
              "    <tr>\n",
              "      <th>299995</th>\n",
              "      <td>499993</td>\n",
              "      <td>A</td>\n",
              "      <td>B</td>\n",
              "      <td>A</td>\n",
              "      <td>C</td>\n",
              "      <td>B</td>\n",
              "      <td>B</td>\n",
              "      <td>A</td>\n",
              "      <td>E</td>\n",
              "      <td>E</td>\n",
              "      <td>L</td>\n",
              "      <td>0.260716</td>\n",
              "      <td>0.712438</td>\n",
              "      <td>0.161661</td>\n",
              "      <td>0.442794</td>\n",
              "      <td>0.768447</td>\n",
              "      <td>0.269578</td>\n",
              "      <td>0.258655</td>\n",
              "      <td>0.363598</td>\n",
              "      <td>0.300619</td>\n",
              "      <td>0.340516</td>\n",
              "      <td>0.235711</td>\n",
              "      <td>0.383477</td>\n",
              "      <td>0.215227</td>\n",
              "      <td>0.793630</td>\n",
              "      <td>8.343538</td>\n",
              "    </tr>\n",
              "    <tr>\n",
              "      <th>299996</th>\n",
              "      <td>499996</td>\n",
              "      <td>A</td>\n",
              "      <td>B</td>\n",
              "      <td>A</td>\n",
              "      <td>C</td>\n",
              "      <td>B</td>\n",
              "      <td>B</td>\n",
              "      <td>A</td>\n",
              "      <td>E</td>\n",
              "      <td>E</td>\n",
              "      <td>L</td>\n",
              "      <td>0.173302</td>\n",
              "      <td>0.121591</td>\n",
              "      <td>0.592514</td>\n",
              "      <td>0.193711</td>\n",
              "      <td>0.775951</td>\n",
              "      <td>0.197211</td>\n",
              "      <td>0.257024</td>\n",
              "      <td>0.574304</td>\n",
              "      <td>0.227035</td>\n",
              "      <td>0.322583</td>\n",
              "      <td>0.286094</td>\n",
              "      <td>0.324874</td>\n",
              "      <td>0.306933</td>\n",
              "      <td>0.230902</td>\n",
              "      <td>7.851861</td>\n",
              "    </tr>\n",
              "    <tr>\n",
              "      <th>299997</th>\n",
              "      <td>499997</td>\n",
              "      <td>A</td>\n",
              "      <td>B</td>\n",
              "      <td>A</td>\n",
              "      <td>C</td>\n",
              "      <td>B</td>\n",
              "      <td>B</td>\n",
              "      <td>A</td>\n",
              "      <td>E</td>\n",
              "      <td>C</td>\n",
              "      <td>M</td>\n",
              "      <td>0.342856</td>\n",
              "      <td>0.617869</td>\n",
              "      <td>0.462991</td>\n",
              "      <td>0.418098</td>\n",
              "      <td>0.297406</td>\n",
              "      <td>0.449482</td>\n",
              "      <td>0.386172</td>\n",
              "      <td>0.476217</td>\n",
              "      <td>0.135947</td>\n",
              "      <td>0.502730</td>\n",
              "      <td>0.235788</td>\n",
              "      <td>0.316671</td>\n",
              "      <td>0.250286</td>\n",
              "      <td>0.349041</td>\n",
              "      <td>7.600558</td>\n",
              "    </tr>\n",
              "    <tr>\n",
              "      <th>299998</th>\n",
              "      <td>499998</td>\n",
              "      <td>A</td>\n",
              "      <td>B</td>\n",
              "      <td>B</td>\n",
              "      <td>C</td>\n",
              "      <td>B</td>\n",
              "      <td>B</td>\n",
              "      <td>A</td>\n",
              "      <td>D</td>\n",
              "      <td>E</td>\n",
              "      <td>F</td>\n",
              "      <td>0.599403</td>\n",
              "      <td>0.686054</td>\n",
              "      <td>0.660860</td>\n",
              "      <td>0.187199</td>\n",
              "      <td>0.758642</td>\n",
              "      <td>0.363130</td>\n",
              "      <td>0.324132</td>\n",
              "      <td>0.229017</td>\n",
              "      <td>0.220888</td>\n",
              "      <td>0.515304</td>\n",
              "      <td>0.389391</td>\n",
              "      <td>0.245234</td>\n",
              "      <td>0.303895</td>\n",
              "      <td>0.481138</td>\n",
              "      <td>8.272095</td>\n",
              "    </tr>\n",
              "    <tr>\n",
              "      <th>299999</th>\n",
              "      <td>499999</td>\n",
              "      <td>A</td>\n",
              "      <td>A</td>\n",
              "      <td>B</td>\n",
              "      <td>A</td>\n",
              "      <td>B</td>\n",
              "      <td>D</td>\n",
              "      <td>A</td>\n",
              "      <td>E</td>\n",
              "      <td>C</td>\n",
              "      <td>K</td>\n",
              "      <td>0.475451</td>\n",
              "      <td>0.037659</td>\n",
              "      <td>0.753772</td>\n",
              "      <td>0.398129</td>\n",
              "      <td>0.696047</td>\n",
              "      <td>0.734712</td>\n",
              "      <td>0.404145</td>\n",
              "      <td>0.497719</td>\n",
              "      <td>0.497974</td>\n",
              "      <td>0.782585</td>\n",
              "      <td>0.751251</td>\n",
              "      <td>0.608412</td>\n",
              "      <td>0.712868</td>\n",
              "      <td>0.452400</td>\n",
              "      <td>6.025685</td>\n",
              "    </tr>\n",
              "  </tbody>\n",
              "</table>\n",
              "<p>300000 rows × 26 columns</p>\n",
              "</div>"
            ],
            "text/plain": [
              "            id cat0 cat1 cat2  ...    cont11    cont12    cont13    target\n",
              "0            1    A    B    A  ...  0.701915  0.877618  0.719903  6.994023\n",
              "1            2    B    A    A  ...  0.741289  0.326679  0.808464  8.071256\n",
              "2            3    A    A    A  ...  0.695561  0.869133  0.828352  5.760456\n",
              "3            4    A    A    A  ...  0.698125  0.809799  0.614766  7.806457\n",
              "4            6    A    B    A  ...  0.683073  0.343457  0.297743  6.868974\n",
              "...        ...  ...  ...  ...  ...       ...       ...       ...       ...\n",
              "299995  499993    A    B    A  ...  0.383477  0.215227  0.793630  8.343538\n",
              "299996  499996    A    B    A  ...  0.324874  0.306933  0.230902  7.851861\n",
              "299997  499997    A    B    A  ...  0.316671  0.250286  0.349041  7.600558\n",
              "299998  499998    A    B    B  ...  0.245234  0.303895  0.481138  8.272095\n",
              "299999  499999    A    A    B  ...  0.608412  0.712868  0.452400  6.025685\n",
              "\n",
              "[300000 rows x 26 columns]"
            ]
          },
          "metadata": {
            "tags": []
          },
          "execution_count": 7
        }
      ]
    },
    {
      "cell_type": "code",
      "metadata": {
        "colab": {
          "base_uri": "https://localhost:8080/",
          "height": 439
        },
        "id": "QvKVRr-DOUg0",
        "outputId": "8706889f-5619-43ff-f339-cb7433ff51ae"
      },
      "source": [
        "data_test"
      ],
      "execution_count": null,
      "outputs": [
        {
          "output_type": "execute_result",
          "data": {
            "text/html": [
              "<div>\n",
              "<style scoped>\n",
              "    .dataframe tbody tr th:only-of-type {\n",
              "        vertical-align: middle;\n",
              "    }\n",
              "\n",
              "    .dataframe tbody tr th {\n",
              "        vertical-align: top;\n",
              "    }\n",
              "\n",
              "    .dataframe thead th {\n",
              "        text-align: right;\n",
              "    }\n",
              "</style>\n",
              "<table border=\"1\" class=\"dataframe\">\n",
              "  <thead>\n",
              "    <tr style=\"text-align: right;\">\n",
              "      <th></th>\n",
              "      <th>id</th>\n",
              "      <th>cat0</th>\n",
              "      <th>cat1</th>\n",
              "      <th>cat2</th>\n",
              "      <th>cat3</th>\n",
              "      <th>cat4</th>\n",
              "      <th>cat5</th>\n",
              "      <th>cat6</th>\n",
              "      <th>cat7</th>\n",
              "      <th>cat8</th>\n",
              "      <th>cat9</th>\n",
              "      <th>cont0</th>\n",
              "      <th>cont1</th>\n",
              "      <th>cont2</th>\n",
              "      <th>cont3</th>\n",
              "      <th>cont4</th>\n",
              "      <th>cont5</th>\n",
              "      <th>cont6</th>\n",
              "      <th>cont7</th>\n",
              "      <th>cont8</th>\n",
              "      <th>cont9</th>\n",
              "      <th>cont10</th>\n",
              "      <th>cont11</th>\n",
              "      <th>cont12</th>\n",
              "      <th>cont13</th>\n",
              "    </tr>\n",
              "  </thead>\n",
              "  <tbody>\n",
              "    <tr>\n",
              "      <th>0</th>\n",
              "      <td>0</td>\n",
              "      <td>A</td>\n",
              "      <td>B</td>\n",
              "      <td>A</td>\n",
              "      <td>C</td>\n",
              "      <td>B</td>\n",
              "      <td>D</td>\n",
              "      <td>A</td>\n",
              "      <td>E</td>\n",
              "      <td>E</td>\n",
              "      <td>G</td>\n",
              "      <td>0.331261</td>\n",
              "      <td>0.551131</td>\n",
              "      <td>0.486284</td>\n",
              "      <td>0.156058</td>\n",
              "      <td>0.701679</td>\n",
              "      <td>0.595507</td>\n",
              "      <td>0.286912</td>\n",
              "      <td>0.279884</td>\n",
              "      <td>0.202234</td>\n",
              "      <td>0.242654</td>\n",
              "      <td>0.285147</td>\n",
              "      <td>0.264308</td>\n",
              "      <td>0.653654</td>\n",
              "      <td>0.302448</td>\n",
              "    </tr>\n",
              "    <tr>\n",
              "      <th>1</th>\n",
              "      <td>5</td>\n",
              "      <td>A</td>\n",
              "      <td>B</td>\n",
              "      <td>A</td>\n",
              "      <td>C</td>\n",
              "      <td>B</td>\n",
              "      <td>D</td>\n",
              "      <td>A</td>\n",
              "      <td>E</td>\n",
              "      <td>C</td>\n",
              "      <td>L</td>\n",
              "      <td>0.402404</td>\n",
              "      <td>0.617546</td>\n",
              "      <td>0.296852</td>\n",
              "      <td>0.187440</td>\n",
              "      <td>0.277480</td>\n",
              "      <td>0.479552</td>\n",
              "      <td>0.397436</td>\n",
              "      <td>0.476742</td>\n",
              "      <td>0.857073</td>\n",
              "      <td>0.516393</td>\n",
              "      <td>0.562065</td>\n",
              "      <td>0.730542</td>\n",
              "      <td>0.318492</td>\n",
              "      <td>0.736251</td>\n",
              "    </tr>\n",
              "    <tr>\n",
              "      <th>2</th>\n",
              "      <td>15</td>\n",
              "      <td>A</td>\n",
              "      <td>B</td>\n",
              "      <td>A</td>\n",
              "      <td>C</td>\n",
              "      <td>B</td>\n",
              "      <td>D</td>\n",
              "      <td>A</td>\n",
              "      <td>E</td>\n",
              "      <td>C</td>\n",
              "      <td>F</td>\n",
              "      <td>0.530677</td>\n",
              "      <td>0.618126</td>\n",
              "      <td>0.760865</td>\n",
              "      <td>0.199872</td>\n",
              "      <td>0.279508</td>\n",
              "      <td>0.676395</td>\n",
              "      <td>0.695284</td>\n",
              "      <td>0.253316</td>\n",
              "      <td>0.586934</td>\n",
              "      <td>0.548555</td>\n",
              "      <td>0.836193</td>\n",
              "      <td>0.759788</td>\n",
              "      <td>0.333572</td>\n",
              "      <td>0.273905</td>\n",
              "    </tr>\n",
              "    <tr>\n",
              "      <th>3</th>\n",
              "      <td>16</td>\n",
              "      <td>A</td>\n",
              "      <td>A</td>\n",
              "      <td>B</td>\n",
              "      <td>A</td>\n",
              "      <td>B</td>\n",
              "      <td>D</td>\n",
              "      <td>A</td>\n",
              "      <td>E</td>\n",
              "      <td>E</td>\n",
              "      <td>F</td>\n",
              "      <td>0.439653</td>\n",
              "      <td>0.487403</td>\n",
              "      <td>0.715786</td>\n",
              "      <td>0.192808</td>\n",
              "      <td>0.479503</td>\n",
              "      <td>0.759875</td>\n",
              "      <td>0.240049</td>\n",
              "      <td>0.298074</td>\n",
              "      <td>0.442475</td>\n",
              "      <td>0.596746</td>\n",
              "      <td>0.414131</td>\n",
              "      <td>0.255382</td>\n",
              "      <td>0.589080</td>\n",
              "      <td>0.311625</td>\n",
              "    </tr>\n",
              "    <tr>\n",
              "      <th>4</th>\n",
              "      <td>17</td>\n",
              "      <td>A</td>\n",
              "      <td>B</td>\n",
              "      <td>A</td>\n",
              "      <td>A</td>\n",
              "      <td>B</td>\n",
              "      <td>B</td>\n",
              "      <td>A</td>\n",
              "      <td>E</td>\n",
              "      <td>E</td>\n",
              "      <td>I</td>\n",
              "      <td>0.389844</td>\n",
              "      <td>0.752760</td>\n",
              "      <td>0.315269</td>\n",
              "      <td>0.191734</td>\n",
              "      <td>0.757845</td>\n",
              "      <td>0.210232</td>\n",
              "      <td>0.329851</td>\n",
              "      <td>0.616663</td>\n",
              "      <td>0.170475</td>\n",
              "      <td>0.263235</td>\n",
              "      <td>0.710961</td>\n",
              "      <td>0.224045</td>\n",
              "      <td>0.285860</td>\n",
              "      <td>0.794931</td>\n",
              "    </tr>\n",
              "    <tr>\n",
              "      <th>...</th>\n",
              "      <td>...</td>\n",
              "      <td>...</td>\n",
              "      <td>...</td>\n",
              "      <td>...</td>\n",
              "      <td>...</td>\n",
              "      <td>...</td>\n",
              "      <td>...</td>\n",
              "      <td>...</td>\n",
              "      <td>...</td>\n",
              "      <td>...</td>\n",
              "      <td>...</td>\n",
              "      <td>...</td>\n",
              "      <td>...</td>\n",
              "      <td>...</td>\n",
              "      <td>...</td>\n",
              "      <td>...</td>\n",
              "      <td>...</td>\n",
              "      <td>...</td>\n",
              "      <td>...</td>\n",
              "      <td>...</td>\n",
              "      <td>...</td>\n",
              "      <td>...</td>\n",
              "      <td>...</td>\n",
              "      <td>...</td>\n",
              "      <td>...</td>\n",
              "    </tr>\n",
              "    <tr>\n",
              "      <th>199995</th>\n",
              "      <td>499987</td>\n",
              "      <td>A</td>\n",
              "      <td>A</td>\n",
              "      <td>A</td>\n",
              "      <td>C</td>\n",
              "      <td>B</td>\n",
              "      <td>D</td>\n",
              "      <td>A</td>\n",
              "      <td>E</td>\n",
              "      <td>G</td>\n",
              "      <td>L</td>\n",
              "      <td>0.919265</td>\n",
              "      <td>0.111147</td>\n",
              "      <td>0.199583</td>\n",
              "      <td>0.181354</td>\n",
              "      <td>0.277365</td>\n",
              "      <td>0.963678</td>\n",
              "      <td>0.240482</td>\n",
              "      <td>0.686462</td>\n",
              "      <td>0.915165</td>\n",
              "      <td>0.848878</td>\n",
              "      <td>0.459598</td>\n",
              "      <td>0.590327</td>\n",
              "      <td>0.864873</td>\n",
              "      <td>0.425258</td>\n",
              "    </tr>\n",
              "    <tr>\n",
              "      <th>199996</th>\n",
              "      <td>499990</td>\n",
              "      <td>A</td>\n",
              "      <td>A</td>\n",
              "      <td>A</td>\n",
              "      <td>C</td>\n",
              "      <td>B</td>\n",
              "      <td>D</td>\n",
              "      <td>A</td>\n",
              "      <td>E</td>\n",
              "      <td>E</td>\n",
              "      <td>F</td>\n",
              "      <td>0.362875</td>\n",
              "      <td>-0.020197</td>\n",
              "      <td>0.469025</td>\n",
              "      <td>0.336185</td>\n",
              "      <td>0.523174</td>\n",
              "      <td>0.232072</td>\n",
              "      <td>0.363421</td>\n",
              "      <td>0.694092</td>\n",
              "      <td>0.137002</td>\n",
              "      <td>0.319465</td>\n",
              "      <td>0.364527</td>\n",
              "      <td>0.388908</td>\n",
              "      <td>0.664357</td>\n",
              "      <td>0.224215</td>\n",
              "    </tr>\n",
              "    <tr>\n",
              "      <th>199997</th>\n",
              "      <td>499991</td>\n",
              "      <td>A</td>\n",
              "      <td>A</td>\n",
              "      <td>A</td>\n",
              "      <td>C</td>\n",
              "      <td>B</td>\n",
              "      <td>D</td>\n",
              "      <td>A</td>\n",
              "      <td>E</td>\n",
              "      <td>C</td>\n",
              "      <td>K</td>\n",
              "      <td>0.463060</td>\n",
              "      <td>0.740421</td>\n",
              "      <td>0.446293</td>\n",
              "      <td>0.411387</td>\n",
              "      <td>0.517103</td>\n",
              "      <td>0.432927</td>\n",
              "      <td>0.811876</td>\n",
              "      <td>0.328398</td>\n",
              "      <td>0.496017</td>\n",
              "      <td>0.538779</td>\n",
              "      <td>0.466338</td>\n",
              "      <td>0.643869</td>\n",
              "      <td>0.749590</td>\n",
              "      <td>0.457702</td>\n",
              "    </tr>\n",
              "    <tr>\n",
              "      <th>199998</th>\n",
              "      <td>499994</td>\n",
              "      <td>A</td>\n",
              "      <td>B</td>\n",
              "      <td>A</td>\n",
              "      <td>A</td>\n",
              "      <td>B</td>\n",
              "      <td>D</td>\n",
              "      <td>A</td>\n",
              "      <td>E</td>\n",
              "      <td>C</td>\n",
              "      <td>F</td>\n",
              "      <td>0.708709</td>\n",
              "      <td>0.418490</td>\n",
              "      <td>0.193004</td>\n",
              "      <td>0.862700</td>\n",
              "      <td>0.279153</td>\n",
              "      <td>0.837712</td>\n",
              "      <td>0.680886</td>\n",
              "      <td>0.534439</td>\n",
              "      <td>0.501588</td>\n",
              "      <td>0.809053</td>\n",
              "      <td>0.631704</td>\n",
              "      <td>0.766426</td>\n",
              "      <td>0.937139</td>\n",
              "      <td>0.796304</td>\n",
              "    </tr>\n",
              "    <tr>\n",
              "      <th>199999</th>\n",
              "      <td>499995</td>\n",
              "      <td>A</td>\n",
              "      <td>B</td>\n",
              "      <td>A</td>\n",
              "      <td>C</td>\n",
              "      <td>B</td>\n",
              "      <td>C</td>\n",
              "      <td>A</td>\n",
              "      <td>E</td>\n",
              "      <td>G</td>\n",
              "      <td>H</td>\n",
              "      <td>0.646432</td>\n",
              "      <td>0.484954</td>\n",
              "      <td>0.141289</td>\n",
              "      <td>0.753487</td>\n",
              "      <td>0.763246</td>\n",
              "      <td>0.792263</td>\n",
              "      <td>0.409425</td>\n",
              "      <td>0.285033</td>\n",
              "      <td>0.594721</td>\n",
              "      <td>0.824892</td>\n",
              "      <td>0.479586</td>\n",
              "      <td>0.683065</td>\n",
              "      <td>0.721518</td>\n",
              "      <td>0.722690</td>\n",
              "    </tr>\n",
              "  </tbody>\n",
              "</table>\n",
              "<p>200000 rows × 25 columns</p>\n",
              "</div>"
            ],
            "text/plain": [
              "            id cat0 cat1 cat2  ...    cont10    cont11    cont12    cont13\n",
              "0            0    A    B    A  ...  0.285147  0.264308  0.653654  0.302448\n",
              "1            5    A    B    A  ...  0.562065  0.730542  0.318492  0.736251\n",
              "2           15    A    B    A  ...  0.836193  0.759788  0.333572  0.273905\n",
              "3           16    A    A    B  ...  0.414131  0.255382  0.589080  0.311625\n",
              "4           17    A    B    A  ...  0.710961  0.224045  0.285860  0.794931\n",
              "...        ...  ...  ...  ...  ...       ...       ...       ...       ...\n",
              "199995  499987    A    A    A  ...  0.459598  0.590327  0.864873  0.425258\n",
              "199996  499990    A    A    A  ...  0.364527  0.388908  0.664357  0.224215\n",
              "199997  499991    A    A    A  ...  0.466338  0.643869  0.749590  0.457702\n",
              "199998  499994    A    B    A  ...  0.631704  0.766426  0.937139  0.796304\n",
              "199999  499995    A    B    A  ...  0.479586  0.683065  0.721518  0.722690\n",
              "\n",
              "[200000 rows x 25 columns]"
            ]
          },
          "metadata": {
            "tags": []
          },
          "execution_count": 8
        }
      ]
    },
    {
      "cell_type": "markdown",
      "metadata": {
        "id": "hkAT1dDzzN4l"
      },
      "source": [
        "Não há valores nulos nos dados de treinamento e nos dados de teste"
      ]
    },
    {
      "cell_type": "code",
      "metadata": {
        "colab": {
          "base_uri": "https://localhost:8080/"
        },
        "id": "cDf2tx-tPcP4",
        "outputId": "31144181-3bfb-45f4-d16e-a89640e23beb"
      },
      "source": [
        "data_train.isna().value_counts()"
      ],
      "execution_count": null,
      "outputs": [
        {
          "output_type": "execute_result",
          "data": {
            "text/plain": [
              "id     cat0   cat1   cat2   cat3   cat4   cat5   cat6   cat7   cat8   cat9   cont0  cont1  cont2  cont3  cont4  cont5  cont6  cont7  cont8  cont9  cont10  cont11  cont12  cont13  target\n",
              "False  False  False  False  False  False  False  False  False  False  False  False  False  False  False  False  False  False  False  False  False  False   False   False   False   False     300000\n",
              "dtype: int64"
            ]
          },
          "metadata": {
            "tags": []
          },
          "execution_count": 23
        }
      ]
    },
    {
      "cell_type": "code",
      "metadata": {
        "colab": {
          "base_uri": "https://localhost:8080/"
        },
        "id": "ZZoxpXUyzS29",
        "outputId": "867712c1-862e-4d3d-e89d-4645e7b3c052"
      },
      "source": [
        "data_test.isna().value_counts()"
      ],
      "execution_count": null,
      "outputs": [
        {
          "output_type": "execute_result",
          "data": {
            "text/plain": [
              "cat0   cat1   cat2   cat3   cat4   cat5   cat6   cat7   cat8   cat9   cont0  cont1  cont2  cont3  cont4  cont5  cont6  cont7  cont8  cont9  cont10  cont11  cont12  cont13\n",
              "False  False  False  False  False  False  False  False  False  False  False  False  False  False  False  False  False  False  False  False  False   False   False   False     200000\n",
              "dtype: int64"
            ]
          },
          "metadata": {
            "tags": []
          },
          "execution_count": 187
        }
      ]
    },
    {
      "cell_type": "markdown",
      "metadata": {
        "id": "oZ6acRZy082D"
      },
      "source": [
        "------------------------------- TASKS ----------------------------\r\n",
        "\r\n",
        "Aprender a usar o Pycaret"
      ]
    },
    {
      "cell_type": "markdown",
      "metadata": {
        "id": "BJxGs3MfPA85"
      },
      "source": [
        "## EDA"
      ]
    },
    {
      "cell_type": "code",
      "metadata": {
        "colab": {
          "base_uri": "https://localhost:8080/",
          "height": 1000
        },
        "id": "43oylq23PTsS",
        "outputId": "447e8f78-b78d-4e6d-ce4a-757608f1f8e2"
      },
      "source": [
        "colunas = [\"cat0\", \"cat1\",\"cat2\",\t\"cat3\",\t\"cat4\",\t\"cat5\",\t\"cat6\",\t\"cat7\",\t\"cat8\", \"cat9\"]\r\n",
        "plt.figure(figsize=(20, 12))\r\n",
        "for i in range(len(colunas)):\r\n",
        "  plt.figure(figsize=(40, 24))\r\n",
        "  plt.subplot(10, 5, i+1)\r\n",
        "  plt.title(colunas[i])\r\n",
        "  sns.countplot(data_train[colunas[i]])\r\n",
        "plt.tight_layout()\r\n",
        "plt.show()"
      ],
      "execution_count": null,
      "outputs": [
        {
          "output_type": "stream",
          "text": [
            "/usr/local/lib/python3.6/dist-packages/seaborn/_decorators.py:43: FutureWarning: Pass the following variable as a keyword arg: x. From version 0.12, the only valid positional argument will be `data`, and passing other arguments without an explicit keyword will result in an error or misinterpretation.\n",
            "  FutureWarning\n",
            "/usr/local/lib/python3.6/dist-packages/seaborn/_decorators.py:43: FutureWarning: Pass the following variable as a keyword arg: x. From version 0.12, the only valid positional argument will be `data`, and passing other arguments without an explicit keyword will result in an error or misinterpretation.\n",
            "  FutureWarning\n",
            "/usr/local/lib/python3.6/dist-packages/seaborn/_decorators.py:43: FutureWarning: Pass the following variable as a keyword arg: x. From version 0.12, the only valid positional argument will be `data`, and passing other arguments without an explicit keyword will result in an error or misinterpretation.\n",
            "  FutureWarning\n",
            "/usr/local/lib/python3.6/dist-packages/seaborn/_decorators.py:43: FutureWarning: Pass the following variable as a keyword arg: x. From version 0.12, the only valid positional argument will be `data`, and passing other arguments without an explicit keyword will result in an error or misinterpretation.\n",
            "  FutureWarning\n",
            "/usr/local/lib/python3.6/dist-packages/seaborn/_decorators.py:43: FutureWarning: Pass the following variable as a keyword arg: x. From version 0.12, the only valid positional argument will be `data`, and passing other arguments without an explicit keyword will result in an error or misinterpretation.\n",
            "  FutureWarning\n",
            "/usr/local/lib/python3.6/dist-packages/seaborn/_decorators.py:43: FutureWarning: Pass the following variable as a keyword arg: x. From version 0.12, the only valid positional argument will be `data`, and passing other arguments without an explicit keyword will result in an error or misinterpretation.\n",
            "  FutureWarning\n",
            "/usr/local/lib/python3.6/dist-packages/seaborn/_decorators.py:43: FutureWarning: Pass the following variable as a keyword arg: x. From version 0.12, the only valid positional argument will be `data`, and passing other arguments without an explicit keyword will result in an error or misinterpretation.\n",
            "  FutureWarning\n",
            "/usr/local/lib/python3.6/dist-packages/seaborn/_decorators.py:43: FutureWarning: Pass the following variable as a keyword arg: x. From version 0.12, the only valid positional argument will be `data`, and passing other arguments without an explicit keyword will result in an error or misinterpretation.\n",
            "  FutureWarning\n",
            "/usr/local/lib/python3.6/dist-packages/seaborn/_decorators.py:43: FutureWarning: Pass the following variable as a keyword arg: x. From version 0.12, the only valid positional argument will be `data`, and passing other arguments without an explicit keyword will result in an error or misinterpretation.\n",
            "  FutureWarning\n",
            "/usr/local/lib/python3.6/dist-packages/seaborn/_decorators.py:43: FutureWarning: Pass the following variable as a keyword arg: x. From version 0.12, the only valid positional argument will be `data`, and passing other arguments without an explicit keyword will result in an error or misinterpretation.\n",
            "  FutureWarning\n"
          ],
          "name": "stderr"
        },
        {
          "output_type": "display_data",
          "data": {
            "text/plain": [
              "<Figure size 1440x864 with 0 Axes>"
            ]
          },
          "metadata": {
            "tags": []
          }
        },
        {
          "output_type": "display_data",
          "data": {
            "image/png": "[encoded data removed]",
            "text/plain": [
              "<Figure size 2880x1728 with 1 Axes>"
            ]
          },
          "metadata": {
            "tags": [],
            "needs_background": "light"
          }
        },
        {
          "output_type": "display_data",
          "data": {
            "image/png": "[encoded data removed]",
            "text/plain": [
              "<Figure size 2880x1728 with 1 Axes>"
            ]
          },
          "metadata": {
            "tags": [],
            "needs_background": "light"
          }
        },
        {
          "output_type": "display_data",
          "data": {
            "image/png": "[encoded data removed]",
            "text/plain": [
              "<Figure size 2880x1728 with 1 Axes>"
            ]
          },
          "metadata": {
            "tags": [],
            "needs_background": "light"
          }
        },
        {
          "output_type": "display_data",
          "data": {
            "image/png": "[encoded data removed]",
            "text/plain": [
              "<Figure size 2880x1728 with 1 Axes>"
            ]
          },
          "metadata": {
            "tags": [],
            "needs_background": "light"
          }
        },
        {
          "output_type": "display_data",
          "data": {
            "image/png": "[encoded data removed]",
            "text/plain": [
              "<Figure size 2880x1728 with 1 Axes>"
            ]
          },
          "metadata": {
            "tags": [],
            "needs_background": "light"
          }
        },
        {
          "output_type": "display_data",
          "data": {
            "image/png": "[encoded data removed]",
            "text/plain": [
              "<Figure size 2880x1728 with 1 Axes>"
            ]
          },
          "metadata": {
            "tags": [],
            "needs_background": "light"
          }
        },
        {
          "output_type": "display_data",
          "data": {
            "image/png": "[encoded data removed]",
            "text/plain": [
              "<Figure size 2880x1728 with 1 Axes>"
            ]
          },
          "metadata": {
            "tags": [],
            "needs_background": "light"
          }
        },
        {
          "output_type": "display_data",
          "data": {
            "image/png": "[encoded data removed]",
            "text/plain": [
              "<Figure size 2880x1728 with 1 Axes>"
            ]
          },
          "metadata": {
            "tags": [],
            "needs_background": "light"
          }
        },
        {
          "output_type": "display_data",
          "data": {
            "image/png": "[encoded data removed]",
            "text/plain": [
              "<Figure size 2880x1728 with 1 Axes>"
            ]
          },
          "metadata": {
            "tags": [],
            "needs_background": "light"
          }
        },
        {
          "output_type": "display_data",
          "data": {
            "image/png": "[encoded data removed]",
            "text/plain": [
              "<Figure size 2880x1728 with 1 Axes>"
            ]
          },
          "metadata": {
            "tags": [],
            "needs_background": "light"
          }
        }
      ]
    },
    {
      "cell_type": "code",
      "metadata": {
        "id": "0SkiScPYq3q8"
      },
      "source": [
        "colunas = [\"cat0\", \"cat1\", \"cat2\", \"cat3\",\t\"cat4\",\t\"cat5\",\t\"cat6\",\t\"cat7\",\t\"cat8\", \"cat9\"]\r\n",
        "plt.figure(figsize=(20, 12))\r\n",
        "for i in colunas:\r\n",
        "  plt.figure(figsize=(40, 24))\r\n",
        "  # plt.subplot(10, 5, colunas[i]+1)\r\n",
        "  # plt.title(colunas[i])\r\n",
        "  sns.catplot(data_train[[i]])\r\n",
        "plt.tight_layout()\r\n",
        "plt.show()"
      ],
      "execution_count": null,
      "outputs": []
    },
    {
      "cell_type": "code",
      "metadata": {
        "colab": {
          "base_uri": "https://localhost:8080/",
          "height": 1000
        },
        "id": "RsjMuerxsdGp",
        "outputId": "3a6036e4-48cb-4925-fb76-29133fc13605"
      },
      "source": [
        "for i in colunas:\r\n",
        "  plt.figure(figsize=(40, 24))\r\n",
        "  plt.subplot(10, 5, colunas[i]+1)\r\n",
        "  plt.title(i)\r\n",
        "  sns.catplot(x=i, y=\"target\", data=data_train)\r\n"
      ],
      "execution_count": null,
      "outputs": [
        {
          "output_type": "display_data",
          "data": {
            "image/png": "[encoded data removed]",
            "text/plain": [
              "<Figure size 432x288 with 1 Axes>"
            ]
          },
          "metadata": {
            "tags": [],
            "needs_background": "light"
          }
        },
        {
          "output_type": "display_data",
          "data": {
            "image/png": "[encoded data removed]",
            "text/plain": [
              "<Figure size 360x360 with 1 Axes>"
            ]
          },
          "metadata": {
            "tags": [],
            "needs_background": "light"
          }
        },
        {
          "output_type": "display_data",
          "data": {
            "image/png": "[encoded data removed]",
            "text/plain": [
              "<Figure size 360x360 with 1 Axes>"
            ]
          },
          "metadata": {
            "tags": [],
            "needs_background": "light"
          }
        },
        {
          "output_type": "display_data",
          "data": {
            "image/png": "[encoded data removed]",
            "text/plain": [
              "<Figure size 360x360 with 1 Axes>"
            ]
          },
          "metadata": {
            "tags": [],
            "needs_background": "light"
          }
        },
        {
          "output_type": "display_data",
          "data": {
            "image/png": "[encoded data removed]",
            "text/plain": [
              "<Figure size 360x360 with 1 Axes>"
            ]
          },
          "metadata": {
            "tags": [],
            "needs_background": "light"
          }
        },
        {
          "output_type": "display_data",
          "data": {
            "image/png": "[encoded data removed]",
            "text/plain": [
              "<Figure size 360x360 with 1 Axes>"
            ]
          },
          "metadata": {
            "tags": [],
            "needs_background": "light"
          }
        },
        {
          "output_type": "display_data",
          "data": {
            "image/png": "[encoded data removed]",
            "text/plain": [
              "<Figure size 360x360 with 1 Axes>"
            ]
          },
          "metadata": {
            "tags": [],
            "needs_background": "light"
          }
        },
        {
          "output_type": "display_data",
          "data": {
            "image/png": "[encoded data removed]",
            "text/plain": [
              "<Figure size 360x360 with 1 Axes>"
            ]
          },
          "metadata": {
            "tags": [],
            "needs_background": "light"
          }
        },
        {
          "output_type": "display_data",
          "data": {
            "image/png": "[encoded data removed]",
            "text/plain": [
              "<Figure size 360x360 with 1 Axes>"
            ]
          },
          "metadata": {
            "tags": [],
            "needs_background": "light"
          }
        },
        {
          "output_type": "display_data",
          "data": {
            "image/png": "[encoded data removed]",
            "text/plain": [
              "<Figure size 360x360 with 1 Axes>"
            ]
          },
          "metadata": {
            "tags": [],
            "needs_background": "light"
          }
        },
        {
          "output_type": "display_data",
          "data": {
            "image/png": "[encoded data removed]",
            "text/plain": [
              "<Figure size 360x360 with 1 Axes>"
            ]
          },
          "metadata": {
            "tags": [],
            "needs_background": "light"
          }
        }
      ]
    },
    {
      "cell_type": "code",
      "metadata": {
        "id": "9QOZrxytPCOX"
      },
      "source": [
        "sns.boxplot(data_train[\"cat0\"])"
      ],
      "execution_count": null,
      "outputs": []
    },
    {
      "cell_type": "markdown",
      "metadata": {
        "id": "TK2nuYNyPCoI"
      },
      "source": [
        "## Data Engineering"
      ]
    },
    {
      "cell_type": "code",
      "metadata": {
        "id": "jQYwqw-VOSY1"
      },
      "source": [
        "data_train.drop([\"id\"], axis=1, inplace=True)\r\n",
        "data_test.drop([\"id\"], axis=1, inplace=True)"
      ],
      "execution_count": null,
      "outputs": []
    },
    {
      "cell_type": "code",
      "metadata": {
        "id": "G4bm-cULQMOX"
      },
      "source": [
        "from sklearn.preprocessing import LabelEncoder\r\n",
        "encoder = LabelEncoder()\r\n",
        "colunas = [\"cat0\", \"cat1\", \"cat2\",\t\"cat3\",\t\"cat4\",\t\"cat5\",\t\"cat6\",\t\"cat7\",\t\"cat8\", \"cat9\"]\r\n",
        "for i in colunas:\r\n",
        "  data_train[i] = encoder.fit_transform(data_train[i])\r\n",
        "  data_test[i] = encoder.fit_transform(data_test[i])\r\n"
      ],
      "execution_count": null,
      "outputs": []
    },
    {
      "cell_type": "code",
      "metadata": {
        "id": "LxCcFM5eOey2"
      },
      "source": [
        "data_train = pd.get_dummies(data_train, columns=[\"cat0\", \"cat1\",\t\"cat2\",\t\"cat3\",\t\"cat4\",\t\"cat5\",\t\"cat6\",\t\"cat7\",\t\"cat8\", \"cat9\"])\r\n",
        "data_test = pd.get_dummies(data_test, columns=[\"cat0\", \"cat1\",\t\"cat2\",\t\"cat3\",\t\"cat4\",\t\"cat5\",\t\"cat6\",\t\"cat7\",\t\"cat8\", \"cat9\"])"
      ],
      "execution_count": null,
      "outputs": []
    },
    {
      "cell_type": "code",
      "metadata": {
        "id": "yZ4wDRwQgouw"
      },
      "source": [
        "X = data_train.drop([\"target\", \"cat6_7\"], axis=1)\r\n",
        "y = data_train[\"target\"]"
      ],
      "execution_count": null,
      "outputs": []
    },
    {
      "cell_type": "code",
      "metadata": {
        "id": "tv4_ylgOtUGp"
      },
      "source": [
        "X"
      ],
      "execution_count": null,
      "outputs": []
    },
    {
      "cell_type": "code",
      "metadata": {
        "id": "pheFVTVethq5"
      },
      "source": [
        "data_test"
      ],
      "execution_count": null,
      "outputs": []
    },
    {
      "cell_type": "code",
      "metadata": {
        "id": "ZxJuIj7dhHph"
      },
      "source": [
        "from sklearn.model_selection import train_test_split\r\n",
        "X_train, X_test, y_train, y_test = train_test_split(X, y, test_size=0.2, random_state=42)"
      ],
      "execution_count": null,
      "outputs": []
    },
    {
      "cell_type": "code",
      "metadata": {
        "colab": {
          "base_uri": "https://localhost:8080/"
        },
        "id": "PgOo6YalhaF6",
        "outputId": "808db8b8-60b6-49ee-f8e8-53751127ecb7"
      },
      "source": [
        "!pip install lightgbm"
      ],
      "execution_count": null,
      "outputs": [
        {
          "output_type": "stream",
          "text": [
            "Requirement already satisfied: lightgbm in /usr/local/lib/python3.6/dist-packages (2.2.3)\n",
            "Requirement already satisfied: scikit-learn in /usr/local/lib/python3.6/dist-packages (from lightgbm) (0.22.2.post1)\n",
            "Requirement already satisfied: numpy in /usr/local/lib/python3.6/dist-packages (from lightgbm) (1.19.5)\n",
            "Requirement already satisfied: scipy in /usr/local/lib/python3.6/dist-packages (from lightgbm) (1.4.1)\n",
            "Requirement already satisfied: joblib>=0.11 in /usr/local/lib/python3.6/dist-packages (from scikit-learn->lightgbm) (1.0.0)\n"
          ],
          "name": "stdout"
        }
      ]
    },
    {
      "cell_type": "code",
      "metadata": {
        "id": "jE-3RVl9fxVN"
      },
      "source": [
        "\r\n",
        "from sklearn.tree import DecisionTreeRegressor\r\n",
        "from sklearn.ensemble import RandomForestRegressor\r\n",
        "from sklearn.linear_model import LinearRegression\r\n",
        "from xgboost import XGBClassifier\r\n",
        "import lightgbm as lgbm\r\n",
        "from sklearn.ensemble import GradientBoostingRegressor\r\n",
        "from sklearn.metrics import make_scorer, accuracy_score, f1_score, classification_report, confusion_matrix\r\n",
        "from sklearn.model_selection import train_test_split, GridSearchCV, cross_val_score, StratifiedKFold, learning_curve, RandomizedSearchCV\r\n",
        "import time"
      ],
      "execution_count": null,
      "outputs": []
    },
    {
      "cell_type": "code",
      "metadata": {
        "id": "tgCjPX0Ohkzm"
      },
      "source": [
        "cv_strat = StratifiedKFold(n_splits = 10)"
      ],
      "execution_count": null,
      "outputs": []
    },
    {
      "cell_type": "code",
      "metadata": {
        "colab": {
          "base_uri": "https://localhost:8080/",
          "height": 439
        },
        "id": "Hu4gStrUiIRQ",
        "outputId": "1a05c590-3241-4ab3-f19c-4ceb4598a266"
      },
      "source": [
        "X_train"
      ],
      "execution_count": null,
      "outputs": [
        {
          "output_type": "execute_result",
          "data": {
            "text/html": [
              "<div>\n",
              "<style scoped>\n",
              "    .dataframe tbody tr th:only-of-type {\n",
              "        vertical-align: middle;\n",
              "    }\n",
              "\n",
              "    .dataframe tbody tr th {\n",
              "        vertical-align: top;\n",
              "    }\n",
              "\n",
              "    .dataframe thead th {\n",
              "        text-align: right;\n",
              "    }\n",
              "</style>\n",
              "<table border=\"1\" class=\"dataframe\">\n",
              "  <thead>\n",
              "    <tr style=\"text-align: right;\">\n",
              "      <th></th>\n",
              "      <th>cont0</th>\n",
              "      <th>cont1</th>\n",
              "      <th>cont2</th>\n",
              "      <th>cont3</th>\n",
              "      <th>cont4</th>\n",
              "      <th>cont5</th>\n",
              "      <th>cont6</th>\n",
              "      <th>cont7</th>\n",
              "      <th>cont8</th>\n",
              "      <th>cont9</th>\n",
              "      <th>cont10</th>\n",
              "      <th>cont11</th>\n",
              "      <th>cont12</th>\n",
              "      <th>cont13</th>\n",
              "      <th>cat0_0</th>\n",
              "      <th>cat0_1</th>\n",
              "      <th>cat1_0</th>\n",
              "      <th>cat1_1</th>\n",
              "      <th>cat2_0</th>\n",
              "      <th>cat2_1</th>\n",
              "      <th>cat3_0</th>\n",
              "      <th>cat3_1</th>\n",
              "      <th>cat3_2</th>\n",
              "      <th>cat3_3</th>\n",
              "      <th>cat4_0</th>\n",
              "      <th>cat4_1</th>\n",
              "      <th>cat4_2</th>\n",
              "      <th>cat4_3</th>\n",
              "      <th>cat5_0</th>\n",
              "      <th>cat5_1</th>\n",
              "      <th>cat5_2</th>\n",
              "      <th>cat5_3</th>\n",
              "      <th>cat6_0</th>\n",
              "      <th>cat6_1</th>\n",
              "      <th>cat6_2</th>\n",
              "      <th>cat6_3</th>\n",
              "      <th>cat6_4</th>\n",
              "      <th>cat6_5</th>\n",
              "      <th>cat6_6</th>\n",
              "      <th>cat6_7</th>\n",
              "      <th>cat7_0</th>\n",
              "      <th>cat7_1</th>\n",
              "      <th>cat7_2</th>\n",
              "      <th>cat7_3</th>\n",
              "      <th>cat7_4</th>\n",
              "      <th>cat7_5</th>\n",
              "      <th>cat7_6</th>\n",
              "      <th>cat7_7</th>\n",
              "      <th>cat8_0</th>\n",
              "      <th>cat8_1</th>\n",
              "      <th>cat8_2</th>\n",
              "      <th>cat8_3</th>\n",
              "      <th>cat8_4</th>\n",
              "      <th>cat8_5</th>\n",
              "      <th>cat8_6</th>\n",
              "      <th>cat9_0</th>\n",
              "      <th>cat9_1</th>\n",
              "      <th>cat9_2</th>\n",
              "      <th>cat9_3</th>\n",
              "      <th>cat9_4</th>\n",
              "      <th>cat9_5</th>\n",
              "      <th>cat9_6</th>\n",
              "      <th>cat9_7</th>\n",
              "      <th>cat9_8</th>\n",
              "      <th>cat9_9</th>\n",
              "      <th>cat9_10</th>\n",
              "      <th>cat9_11</th>\n",
              "      <th>cat9_12</th>\n",
              "      <th>cat9_13</th>\n",
              "      <th>cat9_14</th>\n",
              "    </tr>\n",
              "  </thead>\n",
              "  <tbody>\n",
              "    <tr>\n",
              "      <th>254099</th>\n",
              "      <td>0.651627</td>\n",
              "      <td>0.758858</td>\n",
              "      <td>0.445606</td>\n",
              "      <td>0.228740</td>\n",
              "      <td>0.280175</td>\n",
              "      <td>0.635322</td>\n",
              "      <td>0.507048</td>\n",
              "      <td>0.337380</td>\n",
              "      <td>0.467015</td>\n",
              "      <td>0.337054</td>\n",
              "      <td>0.730467</td>\n",
              "      <td>0.314602</td>\n",
              "      <td>0.609534</td>\n",
              "      <td>0.805591</td>\n",
              "      <td>1</td>\n",
              "      <td>0</td>\n",
              "      <td>0</td>\n",
              "      <td>1</td>\n",
              "      <td>1</td>\n",
              "      <td>0</td>\n",
              "      <td>0</td>\n",
              "      <td>0</td>\n",
              "      <td>1</td>\n",
              "      <td>0</td>\n",
              "      <td>0</td>\n",
              "      <td>1</td>\n",
              "      <td>0</td>\n",
              "      <td>0</td>\n",
              "      <td>0</td>\n",
              "      <td>0</td>\n",
              "      <td>0</td>\n",
              "      <td>1</td>\n",
              "      <td>1</td>\n",
              "      <td>0</td>\n",
              "      <td>0</td>\n",
              "      <td>0</td>\n",
              "      <td>0</td>\n",
              "      <td>0</td>\n",
              "      <td>0</td>\n",
              "      <td>0</td>\n",
              "      <td>0</td>\n",
              "      <td>0</td>\n",
              "      <td>0</td>\n",
              "      <td>0</td>\n",
              "      <td>1</td>\n",
              "      <td>0</td>\n",
              "      <td>0</td>\n",
              "      <td>0</td>\n",
              "      <td>0</td>\n",
              "      <td>0</td>\n",
              "      <td>0</td>\n",
              "      <td>0</td>\n",
              "      <td>0</td>\n",
              "      <td>0</td>\n",
              "      <td>1</td>\n",
              "      <td>0</td>\n",
              "      <td>0</td>\n",
              "      <td>0</td>\n",
              "      <td>0</td>\n",
              "      <td>0</td>\n",
              "      <td>1</td>\n",
              "      <td>0</td>\n",
              "      <td>0</td>\n",
              "      <td>0</td>\n",
              "      <td>0</td>\n",
              "      <td>0</td>\n",
              "      <td>0</td>\n",
              "      <td>0</td>\n",
              "      <td>0</td>\n",
              "      <td>0</td>\n",
              "    </tr>\n",
              "    <tr>\n",
              "      <th>53461</th>\n",
              "      <td>0.500552</td>\n",
              "      <td>0.484890</td>\n",
              "      <td>0.459874</td>\n",
              "      <td>0.485199</td>\n",
              "      <td>0.475419</td>\n",
              "      <td>0.319549</td>\n",
              "      <td>0.378845</td>\n",
              "      <td>0.218947</td>\n",
              "      <td>0.414760</td>\n",
              "      <td>0.380008</td>\n",
              "      <td>0.384979</td>\n",
              "      <td>0.194889</td>\n",
              "      <td>0.589757</td>\n",
              "      <td>0.817879</td>\n",
              "      <td>1</td>\n",
              "      <td>0</td>\n",
              "      <td>1</td>\n",
              "      <td>0</td>\n",
              "      <td>1</td>\n",
              "      <td>0</td>\n",
              "      <td>1</td>\n",
              "      <td>0</td>\n",
              "      <td>0</td>\n",
              "      <td>0</td>\n",
              "      <td>0</td>\n",
              "      <td>1</td>\n",
              "      <td>0</td>\n",
              "      <td>0</td>\n",
              "      <td>0</td>\n",
              "      <td>0</td>\n",
              "      <td>0</td>\n",
              "      <td>1</td>\n",
              "      <td>1</td>\n",
              "      <td>0</td>\n",
              "      <td>0</td>\n",
              "      <td>0</td>\n",
              "      <td>0</td>\n",
              "      <td>0</td>\n",
              "      <td>0</td>\n",
              "      <td>0</td>\n",
              "      <td>0</td>\n",
              "      <td>0</td>\n",
              "      <td>0</td>\n",
              "      <td>0</td>\n",
              "      <td>1</td>\n",
              "      <td>0</td>\n",
              "      <td>0</td>\n",
              "      <td>0</td>\n",
              "      <td>0</td>\n",
              "      <td>0</td>\n",
              "      <td>1</td>\n",
              "      <td>0</td>\n",
              "      <td>0</td>\n",
              "      <td>0</td>\n",
              "      <td>0</td>\n",
              "      <td>0</td>\n",
              "      <td>0</td>\n",
              "      <td>0</td>\n",
              "      <td>0</td>\n",
              "      <td>0</td>\n",
              "      <td>1</td>\n",
              "      <td>0</td>\n",
              "      <td>0</td>\n",
              "      <td>0</td>\n",
              "      <td>0</td>\n",
              "      <td>0</td>\n",
              "      <td>0</td>\n",
              "      <td>0</td>\n",
              "      <td>0</td>\n",
              "      <td>0</td>\n",
              "    </tr>\n",
              "    <tr>\n",
              "      <th>247984</th>\n",
              "      <td>0.293818</td>\n",
              "      <td>0.689225</td>\n",
              "      <td>0.311407</td>\n",
              "      <td>0.208643</td>\n",
              "      <td>0.878872</td>\n",
              "      <td>0.386373</td>\n",
              "      <td>0.344559</td>\n",
              "      <td>0.297390</td>\n",
              "      <td>0.470661</td>\n",
              "      <td>0.369633</td>\n",
              "      <td>0.708858</td>\n",
              "      <td>0.607523</td>\n",
              "      <td>0.468808</td>\n",
              "      <td>0.678101</td>\n",
              "      <td>1</td>\n",
              "      <td>0</td>\n",
              "      <td>1</td>\n",
              "      <td>0</td>\n",
              "      <td>1</td>\n",
              "      <td>0</td>\n",
              "      <td>0</td>\n",
              "      <td>0</td>\n",
              "      <td>1</td>\n",
              "      <td>0</td>\n",
              "      <td>0</td>\n",
              "      <td>1</td>\n",
              "      <td>0</td>\n",
              "      <td>0</td>\n",
              "      <td>1</td>\n",
              "      <td>0</td>\n",
              "      <td>0</td>\n",
              "      <td>0</td>\n",
              "      <td>1</td>\n",
              "      <td>0</td>\n",
              "      <td>0</td>\n",
              "      <td>0</td>\n",
              "      <td>0</td>\n",
              "      <td>0</td>\n",
              "      <td>0</td>\n",
              "      <td>0</td>\n",
              "      <td>0</td>\n",
              "      <td>0</td>\n",
              "      <td>0</td>\n",
              "      <td>0</td>\n",
              "      <td>1</td>\n",
              "      <td>0</td>\n",
              "      <td>0</td>\n",
              "      <td>0</td>\n",
              "      <td>0</td>\n",
              "      <td>0</td>\n",
              "      <td>1</td>\n",
              "      <td>0</td>\n",
              "      <td>0</td>\n",
              "      <td>0</td>\n",
              "      <td>0</td>\n",
              "      <td>0</td>\n",
              "      <td>0</td>\n",
              "      <td>0</td>\n",
              "      <td>0</td>\n",
              "      <td>0</td>\n",
              "      <td>1</td>\n",
              "      <td>0</td>\n",
              "      <td>0</td>\n",
              "      <td>0</td>\n",
              "      <td>0</td>\n",
              "      <td>0</td>\n",
              "      <td>0</td>\n",
              "      <td>0</td>\n",
              "      <td>0</td>\n",
              "      <td>0</td>\n",
              "    </tr>\n",
              "    <tr>\n",
              "      <th>209067</th>\n",
              "      <td>0.833643</td>\n",
              "      <td>0.353748</td>\n",
              "      <td>0.433890</td>\n",
              "      <td>0.823988</td>\n",
              "      <td>0.507513</td>\n",
              "      <td>0.829573</td>\n",
              "      <td>0.864165</td>\n",
              "      <td>0.264959</td>\n",
              "      <td>0.906068</td>\n",
              "      <td>0.637926</td>\n",
              "      <td>0.804185</td>\n",
              "      <td>0.859877</td>\n",
              "      <td>0.855169</td>\n",
              "      <td>0.234274</td>\n",
              "      <td>1</td>\n",
              "      <td>0</td>\n",
              "      <td>1</td>\n",
              "      <td>0</td>\n",
              "      <td>1</td>\n",
              "      <td>0</td>\n",
              "      <td>1</td>\n",
              "      <td>0</td>\n",
              "      <td>0</td>\n",
              "      <td>0</td>\n",
              "      <td>0</td>\n",
              "      <td>1</td>\n",
              "      <td>0</td>\n",
              "      <td>0</td>\n",
              "      <td>0</td>\n",
              "      <td>0</td>\n",
              "      <td>0</td>\n",
              "      <td>1</td>\n",
              "      <td>1</td>\n",
              "      <td>0</td>\n",
              "      <td>0</td>\n",
              "      <td>0</td>\n",
              "      <td>0</td>\n",
              "      <td>0</td>\n",
              "      <td>0</td>\n",
              "      <td>0</td>\n",
              "      <td>0</td>\n",
              "      <td>0</td>\n",
              "      <td>0</td>\n",
              "      <td>0</td>\n",
              "      <td>1</td>\n",
              "      <td>0</td>\n",
              "      <td>0</td>\n",
              "      <td>0</td>\n",
              "      <td>0</td>\n",
              "      <td>0</td>\n",
              "      <td>0</td>\n",
              "      <td>0</td>\n",
              "      <td>1</td>\n",
              "      <td>0</td>\n",
              "      <td>0</td>\n",
              "      <td>0</td>\n",
              "      <td>0</td>\n",
              "      <td>0</td>\n",
              "      <td>0</td>\n",
              "      <td>0</td>\n",
              "      <td>1</td>\n",
              "      <td>0</td>\n",
              "      <td>0</td>\n",
              "      <td>0</td>\n",
              "      <td>0</td>\n",
              "      <td>0</td>\n",
              "      <td>0</td>\n",
              "      <td>0</td>\n",
              "      <td>0</td>\n",
              "      <td>0</td>\n",
              "    </tr>\n",
              "    <tr>\n",
              "      <th>185997</th>\n",
              "      <td>0.499693</td>\n",
              "      <td>0.791970</td>\n",
              "      <td>0.696113</td>\n",
              "      <td>0.613139</td>\n",
              "      <td>0.897020</td>\n",
              "      <td>0.401178</td>\n",
              "      <td>0.410749</td>\n",
              "      <td>0.344080</td>\n",
              "      <td>0.396157</td>\n",
              "      <td>0.472854</td>\n",
              "      <td>0.587960</td>\n",
              "      <td>0.382548</td>\n",
              "      <td>0.327158</td>\n",
              "      <td>0.400349</td>\n",
              "      <td>1</td>\n",
              "      <td>0</td>\n",
              "      <td>1</td>\n",
              "      <td>0</td>\n",
              "      <td>1</td>\n",
              "      <td>0</td>\n",
              "      <td>0</td>\n",
              "      <td>0</td>\n",
              "      <td>1</td>\n",
              "      <td>0</td>\n",
              "      <td>0</td>\n",
              "      <td>1</td>\n",
              "      <td>0</td>\n",
              "      <td>0</td>\n",
              "      <td>0</td>\n",
              "      <td>1</td>\n",
              "      <td>0</td>\n",
              "      <td>0</td>\n",
              "      <td>1</td>\n",
              "      <td>0</td>\n",
              "      <td>0</td>\n",
              "      <td>0</td>\n",
              "      <td>0</td>\n",
              "      <td>0</td>\n",
              "      <td>0</td>\n",
              "      <td>0</td>\n",
              "      <td>0</td>\n",
              "      <td>0</td>\n",
              "      <td>0</td>\n",
              "      <td>0</td>\n",
              "      <td>1</td>\n",
              "      <td>0</td>\n",
              "      <td>0</td>\n",
              "      <td>0</td>\n",
              "      <td>0</td>\n",
              "      <td>0</td>\n",
              "      <td>0</td>\n",
              "      <td>0</td>\n",
              "      <td>1</td>\n",
              "      <td>0</td>\n",
              "      <td>0</td>\n",
              "      <td>0</td>\n",
              "      <td>0</td>\n",
              "      <td>0</td>\n",
              "      <td>0</td>\n",
              "      <td>0</td>\n",
              "      <td>0</td>\n",
              "      <td>0</td>\n",
              "      <td>0</td>\n",
              "      <td>1</td>\n",
              "      <td>0</td>\n",
              "      <td>0</td>\n",
              "      <td>0</td>\n",
              "      <td>0</td>\n",
              "      <td>0</td>\n",
              "      <td>0</td>\n",
              "    </tr>\n",
              "    <tr>\n",
              "      <th>...</th>\n",
              "      <td>...</td>\n",
              "      <td>...</td>\n",
              "      <td>...</td>\n",
              "      <td>...</td>\n",
              "      <td>...</td>\n",
              "      <td>...</td>\n",
              "      <td>...</td>\n",
              "      <td>...</td>\n",
              "      <td>...</td>\n",
              "      <td>...</td>\n",
              "      <td>...</td>\n",
              "      <td>...</td>\n",
              "      <td>...</td>\n",
              "      <td>...</td>\n",
              "      <td>...</td>\n",
              "      <td>...</td>\n",
              "      <td>...</td>\n",
              "      <td>...</td>\n",
              "      <td>...</td>\n",
              "      <td>...</td>\n",
              "      <td>...</td>\n",
              "      <td>...</td>\n",
              "      <td>...</td>\n",
              "      <td>...</td>\n",
              "      <td>...</td>\n",
              "      <td>...</td>\n",
              "      <td>...</td>\n",
              "      <td>...</td>\n",
              "      <td>...</td>\n",
              "      <td>...</td>\n",
              "      <td>...</td>\n",
              "      <td>...</td>\n",
              "      <td>...</td>\n",
              "      <td>...</td>\n",
              "      <td>...</td>\n",
              "      <td>...</td>\n",
              "      <td>...</td>\n",
              "      <td>...</td>\n",
              "      <td>...</td>\n",
              "      <td>...</td>\n",
              "      <td>...</td>\n",
              "      <td>...</td>\n",
              "      <td>...</td>\n",
              "      <td>...</td>\n",
              "      <td>...</td>\n",
              "      <td>...</td>\n",
              "      <td>...</td>\n",
              "      <td>...</td>\n",
              "      <td>...</td>\n",
              "      <td>...</td>\n",
              "      <td>...</td>\n",
              "      <td>...</td>\n",
              "      <td>...</td>\n",
              "      <td>...</td>\n",
              "      <td>...</td>\n",
              "      <td>...</td>\n",
              "      <td>...</td>\n",
              "      <td>...</td>\n",
              "      <td>...</td>\n",
              "      <td>...</td>\n",
              "      <td>...</td>\n",
              "      <td>...</td>\n",
              "      <td>...</td>\n",
              "      <td>...</td>\n",
              "      <td>...</td>\n",
              "      <td>...</td>\n",
              "      <td>...</td>\n",
              "      <td>...</td>\n",
              "      <td>...</td>\n",
              "      <td>...</td>\n",
              "    </tr>\n",
              "    <tr>\n",
              "      <th>119879</th>\n",
              "      <td>0.218591</td>\n",
              "      <td>0.134988</td>\n",
              "      <td>0.662657</td>\n",
              "      <td>0.245763</td>\n",
              "      <td>0.274016</td>\n",
              "      <td>0.609485</td>\n",
              "      <td>0.242897</td>\n",
              "      <td>0.244675</td>\n",
              "      <td>0.337680</td>\n",
              "      <td>0.326358</td>\n",
              "      <td>0.340959</td>\n",
              "      <td>0.315536</td>\n",
              "      <td>0.361444</td>\n",
              "      <td>0.355215</td>\n",
              "      <td>1</td>\n",
              "      <td>0</td>\n",
              "      <td>1</td>\n",
              "      <td>0</td>\n",
              "      <td>1</td>\n",
              "      <td>0</td>\n",
              "      <td>0</td>\n",
              "      <td>0</td>\n",
              "      <td>1</td>\n",
              "      <td>0</td>\n",
              "      <td>0</td>\n",
              "      <td>1</td>\n",
              "      <td>0</td>\n",
              "      <td>0</td>\n",
              "      <td>0</td>\n",
              "      <td>1</td>\n",
              "      <td>0</td>\n",
              "      <td>0</td>\n",
              "      <td>1</td>\n",
              "      <td>0</td>\n",
              "      <td>0</td>\n",
              "      <td>0</td>\n",
              "      <td>0</td>\n",
              "      <td>0</td>\n",
              "      <td>0</td>\n",
              "      <td>0</td>\n",
              "      <td>0</td>\n",
              "      <td>0</td>\n",
              "      <td>0</td>\n",
              "      <td>0</td>\n",
              "      <td>1</td>\n",
              "      <td>0</td>\n",
              "      <td>0</td>\n",
              "      <td>0</td>\n",
              "      <td>0</td>\n",
              "      <td>0</td>\n",
              "      <td>0</td>\n",
              "      <td>0</td>\n",
              "      <td>1</td>\n",
              "      <td>0</td>\n",
              "      <td>0</td>\n",
              "      <td>1</td>\n",
              "      <td>0</td>\n",
              "      <td>0</td>\n",
              "      <td>0</td>\n",
              "      <td>0</td>\n",
              "      <td>0</td>\n",
              "      <td>0</td>\n",
              "      <td>0</td>\n",
              "      <td>0</td>\n",
              "      <td>0</td>\n",
              "      <td>0</td>\n",
              "      <td>0</td>\n",
              "      <td>0</td>\n",
              "      <td>0</td>\n",
              "      <td>0</td>\n",
              "    </tr>\n",
              "    <tr>\n",
              "      <th>259178</th>\n",
              "      <td>0.317958</td>\n",
              "      <td>0.666808</td>\n",
              "      <td>0.645005</td>\n",
              "      <td>0.357515</td>\n",
              "      <td>0.277544</td>\n",
              "      <td>0.226717</td>\n",
              "      <td>0.497106</td>\n",
              "      <td>0.308617</td>\n",
              "      <td>0.476655</td>\n",
              "      <td>0.242522</td>\n",
              "      <td>0.698014</td>\n",
              "      <td>0.757678</td>\n",
              "      <td>0.648951</td>\n",
              "      <td>0.406966</td>\n",
              "      <td>1</td>\n",
              "      <td>0</td>\n",
              "      <td>0</td>\n",
              "      <td>1</td>\n",
              "      <td>1</td>\n",
              "      <td>0</td>\n",
              "      <td>1</td>\n",
              "      <td>0</td>\n",
              "      <td>0</td>\n",
              "      <td>0</td>\n",
              "      <td>0</td>\n",
              "      <td>1</td>\n",
              "      <td>0</td>\n",
              "      <td>0</td>\n",
              "      <td>0</td>\n",
              "      <td>0</td>\n",
              "      <td>0</td>\n",
              "      <td>1</td>\n",
              "      <td>1</td>\n",
              "      <td>0</td>\n",
              "      <td>0</td>\n",
              "      <td>0</td>\n",
              "      <td>0</td>\n",
              "      <td>0</td>\n",
              "      <td>0</td>\n",
              "      <td>0</td>\n",
              "      <td>0</td>\n",
              "      <td>0</td>\n",
              "      <td>0</td>\n",
              "      <td>0</td>\n",
              "      <td>1</td>\n",
              "      <td>0</td>\n",
              "      <td>0</td>\n",
              "      <td>0</td>\n",
              "      <td>0</td>\n",
              "      <td>0</td>\n",
              "      <td>0</td>\n",
              "      <td>0</td>\n",
              "      <td>1</td>\n",
              "      <td>0</td>\n",
              "      <td>0</td>\n",
              "      <td>0</td>\n",
              "      <td>0</td>\n",
              "      <td>0</td>\n",
              "      <td>0</td>\n",
              "      <td>0</td>\n",
              "      <td>0</td>\n",
              "      <td>0</td>\n",
              "      <td>0</td>\n",
              "      <td>1</td>\n",
              "      <td>0</td>\n",
              "      <td>0</td>\n",
              "      <td>0</td>\n",
              "      <td>0</td>\n",
              "      <td>0</td>\n",
              "      <td>0</td>\n",
              "    </tr>\n",
              "    <tr>\n",
              "      <th>131932</th>\n",
              "      <td>0.477097</td>\n",
              "      <td>0.673851</td>\n",
              "      <td>0.358404</td>\n",
              "      <td>0.751019</td>\n",
              "      <td>0.280375</td>\n",
              "      <td>0.382030</td>\n",
              "      <td>0.912317</td>\n",
              "      <td>0.587112</td>\n",
              "      <td>0.448978</td>\n",
              "      <td>0.448227</td>\n",
              "      <td>0.748775</td>\n",
              "      <td>0.741487</td>\n",
              "      <td>0.209404</td>\n",
              "      <td>0.712498</td>\n",
              "      <td>1</td>\n",
              "      <td>0</td>\n",
              "      <td>1</td>\n",
              "      <td>0</td>\n",
              "      <td>1</td>\n",
              "      <td>0</td>\n",
              "      <td>0</td>\n",
              "      <td>0</td>\n",
              "      <td>1</td>\n",
              "      <td>0</td>\n",
              "      <td>0</td>\n",
              "      <td>1</td>\n",
              "      <td>0</td>\n",
              "      <td>0</td>\n",
              "      <td>0</td>\n",
              "      <td>1</td>\n",
              "      <td>0</td>\n",
              "      <td>0</td>\n",
              "      <td>1</td>\n",
              "      <td>0</td>\n",
              "      <td>0</td>\n",
              "      <td>0</td>\n",
              "      <td>0</td>\n",
              "      <td>0</td>\n",
              "      <td>0</td>\n",
              "      <td>0</td>\n",
              "      <td>0</td>\n",
              "      <td>0</td>\n",
              "      <td>0</td>\n",
              "      <td>0</td>\n",
              "      <td>1</td>\n",
              "      <td>0</td>\n",
              "      <td>0</td>\n",
              "      <td>0</td>\n",
              "      <td>1</td>\n",
              "      <td>0</td>\n",
              "      <td>0</td>\n",
              "      <td>0</td>\n",
              "      <td>0</td>\n",
              "      <td>0</td>\n",
              "      <td>0</td>\n",
              "      <td>1</td>\n",
              "      <td>0</td>\n",
              "      <td>0</td>\n",
              "      <td>0</td>\n",
              "      <td>0</td>\n",
              "      <td>0</td>\n",
              "      <td>0</td>\n",
              "      <td>0</td>\n",
              "      <td>0</td>\n",
              "      <td>0</td>\n",
              "      <td>0</td>\n",
              "      <td>0</td>\n",
              "      <td>0</td>\n",
              "      <td>0</td>\n",
              "      <td>0</td>\n",
              "    </tr>\n",
              "    <tr>\n",
              "      <th>146867</th>\n",
              "      <td>0.277819</td>\n",
              "      <td>0.354847</td>\n",
              "      <td>0.801441</td>\n",
              "      <td>0.509487</td>\n",
              "      <td>0.374181</td>\n",
              "      <td>0.252294</td>\n",
              "      <td>0.396459</td>\n",
              "      <td>0.491125</td>\n",
              "      <td>0.321046</td>\n",
              "      <td>0.319039</td>\n",
              "      <td>0.373475</td>\n",
              "      <td>0.355155</td>\n",
              "      <td>0.660828</td>\n",
              "      <td>0.210733</td>\n",
              "      <td>1</td>\n",
              "      <td>0</td>\n",
              "      <td>0</td>\n",
              "      <td>1</td>\n",
              "      <td>1</td>\n",
              "      <td>0</td>\n",
              "      <td>0</td>\n",
              "      <td>0</td>\n",
              "      <td>1</td>\n",
              "      <td>0</td>\n",
              "      <td>0</td>\n",
              "      <td>1</td>\n",
              "      <td>0</td>\n",
              "      <td>0</td>\n",
              "      <td>0</td>\n",
              "      <td>1</td>\n",
              "      <td>0</td>\n",
              "      <td>0</td>\n",
              "      <td>1</td>\n",
              "      <td>0</td>\n",
              "      <td>0</td>\n",
              "      <td>0</td>\n",
              "      <td>0</td>\n",
              "      <td>0</td>\n",
              "      <td>0</td>\n",
              "      <td>0</td>\n",
              "      <td>0</td>\n",
              "      <td>0</td>\n",
              "      <td>0</td>\n",
              "      <td>0</td>\n",
              "      <td>1</td>\n",
              "      <td>0</td>\n",
              "      <td>0</td>\n",
              "      <td>0</td>\n",
              "      <td>0</td>\n",
              "      <td>0</td>\n",
              "      <td>1</td>\n",
              "      <td>0</td>\n",
              "      <td>0</td>\n",
              "      <td>0</td>\n",
              "      <td>0</td>\n",
              "      <td>0</td>\n",
              "      <td>0</td>\n",
              "      <td>0</td>\n",
              "      <td>0</td>\n",
              "      <td>0</td>\n",
              "      <td>0</td>\n",
              "      <td>0</td>\n",
              "      <td>0</td>\n",
              "      <td>0</td>\n",
              "      <td>0</td>\n",
              "      <td>0</td>\n",
              "      <td>1</td>\n",
              "      <td>0</td>\n",
              "      <td>0</td>\n",
              "      <td>0</td>\n",
              "    </tr>\n",
              "    <tr>\n",
              "      <th>121958</th>\n",
              "      <td>0.905394</td>\n",
              "      <td>0.656028</td>\n",
              "      <td>0.542520</td>\n",
              "      <td>0.813560</td>\n",
              "      <td>0.332911</td>\n",
              "      <td>0.931091</td>\n",
              "      <td>0.745068</td>\n",
              "      <td>0.761678</td>\n",
              "      <td>0.528985</td>\n",
              "      <td>0.809680</td>\n",
              "      <td>0.702276</td>\n",
              "      <td>0.833509</td>\n",
              "      <td>0.847983</td>\n",
              "      <td>0.343001</td>\n",
              "      <td>1</td>\n",
              "      <td>0</td>\n",
              "      <td>1</td>\n",
              "      <td>0</td>\n",
              "      <td>1</td>\n",
              "      <td>0</td>\n",
              "      <td>1</td>\n",
              "      <td>0</td>\n",
              "      <td>0</td>\n",
              "      <td>0</td>\n",
              "      <td>0</td>\n",
              "      <td>1</td>\n",
              "      <td>0</td>\n",
              "      <td>0</td>\n",
              "      <td>0</td>\n",
              "      <td>0</td>\n",
              "      <td>0</td>\n",
              "      <td>1</td>\n",
              "      <td>1</td>\n",
              "      <td>0</td>\n",
              "      <td>0</td>\n",
              "      <td>0</td>\n",
              "      <td>0</td>\n",
              "      <td>0</td>\n",
              "      <td>0</td>\n",
              "      <td>0</td>\n",
              "      <td>0</td>\n",
              "      <td>0</td>\n",
              "      <td>0</td>\n",
              "      <td>0</td>\n",
              "      <td>1</td>\n",
              "      <td>0</td>\n",
              "      <td>0</td>\n",
              "      <td>0</td>\n",
              "      <td>1</td>\n",
              "      <td>0</td>\n",
              "      <td>0</td>\n",
              "      <td>0</td>\n",
              "      <td>0</td>\n",
              "      <td>0</td>\n",
              "      <td>0</td>\n",
              "      <td>0</td>\n",
              "      <td>0</td>\n",
              "      <td>0</td>\n",
              "      <td>0</td>\n",
              "      <td>0</td>\n",
              "      <td>1</td>\n",
              "      <td>0</td>\n",
              "      <td>0</td>\n",
              "      <td>0</td>\n",
              "      <td>0</td>\n",
              "      <td>0</td>\n",
              "      <td>0</td>\n",
              "      <td>0</td>\n",
              "      <td>0</td>\n",
              "      <td>0</td>\n",
              "    </tr>\n",
              "  </tbody>\n",
              "</table>\n",
              "<p>240000 rows × 70 columns</p>\n",
              "</div>"
            ],
            "text/plain": [
              "           cont0     cont1     cont2  ...  cat9_12  cat9_13  cat9_14\n",
              "254099  0.651627  0.758858  0.445606  ...        0        0        0\n",
              "53461   0.500552  0.484890  0.459874  ...        0        0        0\n",
              "247984  0.293818  0.689225  0.311407  ...        0        0        0\n",
              "209067  0.833643  0.353748  0.433890  ...        0        0        0\n",
              "185997  0.499693  0.791970  0.696113  ...        0        0        0\n",
              "...          ...       ...       ...  ...      ...      ...      ...\n",
              "119879  0.218591  0.134988  0.662657  ...        0        0        0\n",
              "259178  0.317958  0.666808  0.645005  ...        0        0        0\n",
              "131932  0.477097  0.673851  0.358404  ...        0        0        0\n",
              "146867  0.277819  0.354847  0.801441  ...        0        0        0\n",
              "121958  0.905394  0.656028  0.542520  ...        0        0        0\n",
              "\n",
              "[240000 rows x 70 columns]"
            ]
          },
          "metadata": {
            "tags": []
          },
          "execution_count": 136
        }
      ]
    },
    {
      "cell_type": "code",
      "metadata": {
        "id": "qOZBAXaMgSUN"
      },
      "source": [
        "random_state = 42\r\n",
        "classifiers = [DecisionTreeRegressor(random_state),\r\n",
        "               RandomForestRegressor(random_state),\r\n",
        "               LinearRegression(random_state)]\r\n",
        "\r\n",
        "cv_results = []\r\n",
        "for classifier in classifiers:\r\n",
        "    classifier.fit(X_train, y_train)\r\n",
        "    # y_pred = classifier.predict(X_test)\r\n",
        "    # print(accuracy_score(y_pred, y_test))\r\n",
        "    #cv_results.append(cross_val_score(classifier, X_train, y = y_train, scoring = \"accuracy\", cv = cv_strat, n_jobs=4))\r\n",
        "\r\n",
        "# cv_means = []\r\n",
        "# cv_std = []\r\n",
        "# for cv_result in cv_results:\r\n",
        "#     cv_means.append(cv_result.mean())\r\n",
        "#     cv_std.append(cv_result.std())\r\n",
        "\r\n",
        "# cv_res = pd.DataFrame({\"CrossValMeans\":cv_means,\"CrossValerrors\": cv_std,\"Algorithm\":[\"SVC\",\"DecisionTree\",\r\n",
        "# \"RandomForest\",\"ExtraTrees\",\"GradientBoosting\",\"MultipleLayerPerceptron\",\"KNeighboors\",\"LogisticRegression\",\"LinearDiscriminantAnalysis\",\"AdaBoost\",\r\n",
        "# \"Naive Bayes\", \"XGBoost\"]})\r\n"
      ],
      "execution_count": null,
      "outputs": []
    },
    {
      "cell_type": "markdown",
      "metadata": {
        "id": "uG9Unnmu-jZl"
      },
      "source": [
        "---\r\n"
      ]
    },
    {
      "cell_type": "code",
      "metadata": {
        "id": "nsTT_eiu6QCe"
      },
      "source": [
        "from keras.models import Sequential\r\n",
        "from keras.layers import Dense, Dropout\r\n",
        "from keras.optimizers import Adam\r\n",
        "from sklearn.model_selection import train_test_split\r\n",
        "from sklearn.metrics import confusion_matrix\r\n",
        "from sklearn.preprocessing import LabelEncoder, OneHotEncoder\r\n",
        "from sklearn.preprocessing import StandardScaler\r\n",
        "from sklearn.compose import make_column_transformer"
      ],
      "execution_count": null,
      "outputs": []
    },
    {
      "cell_type": "code",
      "metadata": {
        "id": "RAlBPFYc6Qpi"
      },
      "source": [
        "from sklearn.model_selection import train_test_split\r\n",
        "X_train, X_test, y_train, y_test = train_test_split(X, y, test_size=0.25, random_state=42)"
      ],
      "execution_count": null,
      "outputs": []
    },
    {
      "cell_type": "code",
      "metadata": {
        "id": "k22D3Dbv74dH"
      },
      "source": [
        "from keras import backend\r\n",
        "def rmse(y_true, y_pred):\r\n",
        "\treturn backend.sqrt(backend.mean(backend.square(y_pred - y_true), axis=-1))"
      ],
      "execution_count": null,
      "outputs": []
    },
    {
      "cell_type": "code",
      "metadata": {
        "id": "u4w6TR7P6frK"
      },
      "source": [
        "classifier_rna = Sequential()\r\n",
        "classifier_rna.add(Dense(units = 24, activation = 'relu', input_dim = 24))\r\n",
        "classifier_rna.add(Dense(units = 1, activation = 'sigmoid'))\r\n",
        "classifier_rna.compile(optimizer = 'adam', loss = 'mse', metrics = [rmse])\r\n",
        "classifier_rna.fit(X_train, y_train, batch_size = 32, epochs = 10)"
      ],
      "execution_count": null,
      "outputs": []
    },
    {
      "cell_type": "code",
      "metadata": {
        "id": "Kbyr8XsI6gDR"
      },
      "source": [
        "y_pred_lif = classifier_rna.predict(X_test)"
      ],
      "execution_count": null,
      "outputs": []
    },
    {
      "cell_type": "code",
      "metadata": {
        "id": "FaFbY7r96iAz"
      },
      "source": [
        "print(accuracy_score(y_pred_lif, y_test))"
      ],
      "execution_count": null,
      "outputs": []
    },
    {
      "cell_type": "code",
      "metadata": {
        "colab": {
          "base_uri": "https://localhost:8080/"
        },
        "id": "aFOyFRV76rlJ",
        "outputId": "10f54fcd-d2dc-4c8d-bd85-6a8ed3ae3755"
      },
      "source": [
        "from sklearn.metrics import mean_squared_error\r\n",
        "rmse = mean_squared_error(y_test, y_pred_lif, squared=False)\r\n",
        "rmse"
      ],
      "execution_count": null,
      "outputs": [
        {
          "output_type": "execute_result",
          "data": {
            "text/plain": [
              "6.512952742366284"
            ]
          },
          "metadata": {
            "tags": []
          },
          "execution_count": 79
        }
      ]
    },
    {
      "cell_type": "markdown",
      "metadata": {
        "id": "d5fktyZX0LeB"
      },
      "source": [
        "---"
      ]
    },
    {
      "cell_type": "markdown",
      "metadata": {
        "id": "RLo0Fd8y0MEQ"
      },
      "source": [
        "Linear Regression"
      ]
    },
    {
      "cell_type": "code",
      "metadata": {
        "id": "OVDze3IIjtrY"
      },
      "source": [
        "lr_clf = LinearRegression()\r\n",
        "lr_clf.fit(X_train, y_train)\r\n",
        "y_pred = lr_clf.predict(X_test)\r\n",
        "#print(lr_clf.score(y_pred, y_test))"
      ],
      "execution_count": null,
      "outputs": []
    },
    {
      "cell_type": "markdown",
      "metadata": {
        "id": "g5wjFXox0FNZ"
      },
      "source": [
        "---"
      ]
    },
    {
      "cell_type": "markdown",
      "metadata": {
        "id": "xRuNRzzc0GbI"
      },
      "source": [
        "Gradient Boosting Regressor"
      ]
    },
    {
      "cell_type": "code",
      "metadata": {
        "id": "dqtJPrdPr4Us"
      },
      "source": [
        "GBC = GradientBoostingRegressor()\r\n",
        "GBC.fit(X_train, y_train)\r\n",
        "y_pred = GBC.predict(X_test)"
      ],
      "execution_count": null,
      "outputs": []
    },
    {
      "cell_type": "markdown",
      "metadata": {
        "id": "ceSyTi5c0D6H"
      },
      "source": [
        "---\r\n"
      ]
    },
    {
      "cell_type": "markdown",
      "metadata": {
        "id": "ZGRTKaxP0SH_"
      },
      "source": [
        "LGBM"
      ]
    },
    {
      "cell_type": "code",
      "metadata": {
        "id": "cfy6O5Hz6G7I"
      },
      "source": [
        "import lightgbm as lgbm"
      ],
      "execution_count": null,
      "outputs": []
    },
    {
      "cell_type": "code",
      "metadata": {
        "id": "7T_yR0Ho0Q2d"
      },
      "source": [
        "lgbm_regressor = lgbm.LGBMRegressor(objective='regression',\r\n",
        "                                    max_depth = 3, \r\n",
        "                                    learning_rate = 0.2, \r\n",
        "                                    n_estimators = 450,\r\n",
        "                                    min_child_samples = 20,\r\n",
        "                                    num_leaves = 21\r\n",
        "                                    )\r\n",
        "lgbm_regressor.fit(X_train, y_train)\r\n",
        "y_pred_lgbm_r = lgbm_regressor.predict(X_test)"
      ],
      "execution_count": null,
      "outputs": []
    },
    {
      "cell_type": "code",
      "metadata": {
        "colab": {
          "base_uri": "https://localhost:8080/"
        },
        "id": "35uxEq880tVN",
        "outputId": "55555b62-005d-4e7c-adb0-15fc70915018"
      },
      "source": [
        "from sklearn.metrics import mean_squared_error\r\n",
        "rmse = mean_squared_error(y_test, y_pred_lgbm_r, squared=False)\r\n",
        "rmse"
      ],
      "execution_count": null,
      "outputs": [
        {
          "output_type": "execute_result",
          "data": {
            "text/plain": [
              "0.8433890839370366"
            ]
          },
          "metadata": {
            "tags": []
          },
          "execution_count": 108
        }
      ]
    },
    {
      "cell_type": "markdown",
      "metadata": {
        "id": "xRb4rTOg6yUE"
      },
      "source": [
        "0.8439754625430659\r\n",
        "\r\n",
        "objective='regression', max_depth = 3, learning_rate = 0.2, n_estimators = 300 - 0.8436277088893529\r\n",
        "\r\n",
        "\r\n",
        "n_estimators = 350 - 0.8435154766772114\r\n",
        "\r\n",
        "n_estimators = 450 - 0.8433920301942668"
      ]
    },
    {
      "cell_type": "markdown",
      "metadata": {
        "id": "LlSDSh3A0RfC"
      },
      "source": [
        "---"
      ]
    },
    {
      "cell_type": "markdown",
      "metadata": {
        "id": "LYZCniumvtTM"
      },
      "source": [
        "XG Boost - Aplicar Grid Search CV para buscar melhores parâmetros"
      ]
    },
    {
      "cell_type": "code",
      "metadata": {
        "id": "lP42GVtQ2irg"
      },
      "source": [
        "import xgboost as xgb\r\n",
        "from xgboost import XGBRegressor\r\n",
        "from sklearn.model_selection import KFold\r\n",
        "from sklearn.model_selection import cross_val_score"
      ],
      "execution_count": null,
      "outputs": []
    },
    {
      "cell_type": "code",
      "metadata": {
        "id": "C5gBgNQzwxey"
      },
      "source": [
        "xgb_r = XGBRegressor(objective='reg:squarederror', n_estimators = 100, learning_rate = 0.1)\r\n",
        "\r\n",
        "# xgb_r.fit(X_train, y_train)\r\n",
        "# y_pred_xgbr = xgb_r.predict(X_test)\r\n",
        "kfold = KFold(n_splits=10, random_state=7)\r\n",
        "results = cross_val_score(xgb_r, X_train, y_train, cv=kfold)\r\n",
        "#y_pred_xgbr_kfold = results.predict(X_test)\r\n"
      ],
      "execution_count": null,
      "outputs": []
    },
    {
      "cell_type": "code",
      "metadata": {
        "colab": {
          "base_uri": "https://localhost:8080/"
        },
        "id": "FArmQIuH4O2Q",
        "outputId": "2a2ffb1f-a3eb-4377-d9b2-b0f7e096c031"
      },
      "source": [
        "print(\"Accuracy: %.2f%% (%.2f%%)\" % (results.mean()*100, results.std()*100))"
      ],
      "execution_count": null,
      "outputs": [
        {
          "output_type": "stream",
          "text": [
            "Accuracy: 7.47% (0.26%)\n"
          ],
          "name": "stdout"
        }
      ]
    },
    {
      "cell_type": "code",
      "metadata": {
        "colab": {
          "base_uri": "https://localhost:8080/"
        },
        "id": "ZS119wCmxHsN",
        "outputId": "368fec99-17ff-4e61-e9d5-e54c0b1e68f3"
      },
      "source": [
        "from sklearn.metrics import mean_squared_error\r\n",
        "rmse = mean_squared_error(y_test, y_pred_xgbr, squared=False)\r\n",
        "rmse"
      ],
      "execution_count": null,
      "outputs": [
        {
          "output_type": "execute_result",
          "data": {
            "text/plain": [
              "0.8442370318996729"
            ]
          },
          "metadata": {
            "tags": []
          },
          "execution_count": 63
        }
      ]
    },
    {
      "cell_type": "code",
      "metadata": {
        "id": "b4t8gPvj_kYi"
      },
      "source": [
        "from sklearn.metrics import make_scorer, accuracy_score, mean_squared_error, classification_report, confusion_matrix\r\n",
        "import time\r\n",
        "from sklearn.model_selection import StratifiedKFold, GridSearchCV, KFold"
      ],
      "execution_count": null,
      "outputs": []
    },
    {
      "cell_type": "markdown",
      "metadata": {
        "id": "KPHeTjOEZ7Fp"
      },
      "source": [
        "TESTAR COM ONE HOT ENCODING"
      ]
    },
    {
      "cell_type": "code",
      "metadata": {
        "colab": {
          "background_save": true
        },
        "id": "kDZ_16KL6HlK",
        "outputId": "8065ec69-6fc9-4a97-df88-82714c824fa2"
      },
      "source": [
        "t1 = time.time()\r\n",
        "cv_strat = StratifiedKFold(n_splits = 10)\r\n",
        "\r\n",
        "hiperparam1 = {'objective': [\"reg:squarederror\"],\r\n",
        "               'n_estimators':[100, 300, 500],\r\n",
        "               'learning_rate':[0.1, 0.2],\r\n",
        "               'max_depth':[1, 2, 3]}\r\n",
        "\r\n",
        "\r\n",
        "mse = make_scorer(mean_squared_error)\r\n",
        "\r\n",
        "#instânciando meu classificador\r\n",
        "classifier1 = XGBRegressor()\r\n",
        "\r\n",
        "#instanciando e modelando o grid search com os hiperparametros e a validação definidas.\r\n",
        "grid_cv1_xgb_r = GridSearchCV(classifier1, hiperparam1, cv = 3, scoring = mse)\r\n",
        "grid_cv1_xgb_r.fit(X_train, y_train)\r\n",
        "t2 = time.time()\r\n",
        "res = t2 - t1\r\n",
        "print(res / 60)"
      ],
      "execution_count": null,
      "outputs": [
        {
          "output_type": "stream",
          "text": [
            "45.508826855818434\n"
          ],
          "name": "stdout"
        }
      ]
    },
    {
      "cell_type": "code",
      "metadata": {
        "id": "mraDFwa8-rYE"
      },
      "source": [
        "#vamos olhar para os melhores resultados encontrados pelo Grid Search\r\n",
        "print('Melhor resultado f1:', grid_cv1_svc.best_score_)\r\n",
        "print('\\n\\nMelhor configuração de hiperparâmetros:', grid_cv1_svc.best_params_)\r\n",
        "print( '\\n\\nConfigurações de todos os hiperparâmetros do melhor estimado encontrado pelo GridSearch: \\n', grid_cv1_svc.best_estimator_)"
      ],
      "execution_count": null,
      "outputs": []
    },
    {
      "cell_type": "code",
      "metadata": {
        "colab": {
          "base_uri": "https://localhost:8080/",
          "height": 314
        },
        "id": "eNHVuI2f2Tcl",
        "outputId": "fafb299f-0e5e-461e-cd31-9609bf40c93f"
      },
      "source": [
        "plt.figure(figsize=(20, 12))\r\n",
        "xgb.plot_importance(xgb_r)\r\n",
        "plt.tight_layout()\r\n",
        "plt.show()"
      ],
      "execution_count": null,
      "outputs": [
        {
          "output_type": "display_data",
          "data": {
            "text/plain": [
              "<Figure size 1440x864 with 0 Axes>"
            ]
          },
          "metadata": {
            "tags": []
          }
        },
        {
          "output_type": "display_data",
          "data": {
            "image/png": "[encoded data removed]",
            "text/plain": [
              "<Figure size 432x288 with 1 Axes>"
            ]
          },
          "metadata": {
            "tags": [],
            "needs_background": "light"
          }
        }
      ]
    },
    {
      "cell_type": "markdown",
      "metadata": {
        "id": "ki0e3IVpvvEQ"
      },
      "source": [
        "---\r\n"
      ]
    },
    {
      "cell_type": "code",
      "metadata": {
        "colab": {
          "base_uri": "https://localhost:8080/"
        },
        "id": "5qXBdjJBkIH5",
        "outputId": "f1ecedd1-9536-45d1-c5cb-a6832497fb3e"
      },
      "source": [
        "from sklearn.metrics import mean_squared_error\r\n",
        "\r\n",
        "rmse = mean_squared_error(y_test, y_pred, squared=False)\r\n",
        "rmse"
      ],
      "execution_count": null,
      "outputs": [
        {
          "output_type": "execute_result",
          "data": {
            "text/plain": [
              "0.8533711291850826"
            ]
          },
          "metadata": {
            "tags": []
          },
          "execution_count": 168
        }
      ]
    },
    {
      "cell_type": "markdown",
      "metadata": {
        "id": "6r722HY9oTTR"
      },
      "source": [
        "• Linear Regression - Com somente as colunas de \"cont\", consegui bater o score de 0.88126, mas colocando as colunas \"cat\" e aplicando LabelEncoder nelas consegui bater 0.86 no modelo de treinamento\r\n",
        "\r\n",
        "• Gradient Boosting Regressor - Score 08.53"
      ]
    },
    {
      "cell_type": "markdown",
      "metadata": {
        "id": "gDJhdkhGkTTP"
      },
      "source": [
        "##Usando no dataset de test"
      ]
    },
    {
      "cell_type": "code",
      "metadata": {
        "id": "q7ed3nQLk5pM",
        "colab": {
          "base_uri": "https://localhost:8080/",
          "height": 439
        },
        "outputId": "ef50d0ae-8150-4590-a319-b39f827c05d9"
      },
      "source": [
        "data_test"
      ],
      "execution_count": null,
      "outputs": [
        {
          "output_type": "execute_result",
          "data": {
            "text/html": [
              "<div>\n",
              "<style scoped>\n",
              "    .dataframe tbody tr th:only-of-type {\n",
              "        vertical-align: middle;\n",
              "    }\n",
              "\n",
              "    .dataframe tbody tr th {\n",
              "        vertical-align: top;\n",
              "    }\n",
              "\n",
              "    .dataframe thead th {\n",
              "        text-align: right;\n",
              "    }\n",
              "</style>\n",
              "<table border=\"1\" class=\"dataframe\">\n",
              "  <thead>\n",
              "    <tr style=\"text-align: right;\">\n",
              "      <th></th>\n",
              "      <th>cont0</th>\n",
              "      <th>cont1</th>\n",
              "      <th>cont2</th>\n",
              "      <th>cont3</th>\n",
              "      <th>cont4</th>\n",
              "      <th>cont5</th>\n",
              "      <th>cont6</th>\n",
              "      <th>cont7</th>\n",
              "      <th>cont8</th>\n",
              "      <th>cont9</th>\n",
              "      <th>cont10</th>\n",
              "      <th>cont11</th>\n",
              "      <th>cont12</th>\n",
              "      <th>cont13</th>\n",
              "      <th>cat0_0</th>\n",
              "      <th>cat0_1</th>\n",
              "      <th>cat1_0</th>\n",
              "      <th>cat1_1</th>\n",
              "      <th>cat2_0</th>\n",
              "      <th>cat2_1</th>\n",
              "      <th>cat3_0</th>\n",
              "      <th>cat3_1</th>\n",
              "      <th>cat3_2</th>\n",
              "      <th>cat3_3</th>\n",
              "      <th>cat4_0</th>\n",
              "      <th>cat4_1</th>\n",
              "      <th>cat4_2</th>\n",
              "      <th>cat4_3</th>\n",
              "      <th>cat5_0</th>\n",
              "      <th>cat5_1</th>\n",
              "      <th>cat5_2</th>\n",
              "      <th>cat5_3</th>\n",
              "      <th>cat6_0</th>\n",
              "      <th>cat6_1</th>\n",
              "      <th>cat6_2</th>\n",
              "      <th>cat6_3</th>\n",
              "      <th>cat6_4</th>\n",
              "      <th>cat6_5</th>\n",
              "      <th>cat6_6</th>\n",
              "      <th>cat7_0</th>\n",
              "      <th>cat7_1</th>\n",
              "      <th>cat7_2</th>\n",
              "      <th>cat7_3</th>\n",
              "      <th>cat7_4</th>\n",
              "      <th>cat7_5</th>\n",
              "      <th>cat7_6</th>\n",
              "      <th>cat7_7</th>\n",
              "      <th>cat8_0</th>\n",
              "      <th>cat8_1</th>\n",
              "      <th>cat8_2</th>\n",
              "      <th>cat8_3</th>\n",
              "      <th>cat8_4</th>\n",
              "      <th>cat8_5</th>\n",
              "      <th>cat8_6</th>\n",
              "      <th>cat9_0</th>\n",
              "      <th>cat9_1</th>\n",
              "      <th>cat9_2</th>\n",
              "      <th>cat9_3</th>\n",
              "      <th>cat9_4</th>\n",
              "      <th>cat9_5</th>\n",
              "      <th>cat9_6</th>\n",
              "      <th>cat9_7</th>\n",
              "      <th>cat9_8</th>\n",
              "      <th>cat9_9</th>\n",
              "      <th>cat9_10</th>\n",
              "      <th>cat9_11</th>\n",
              "      <th>cat9_12</th>\n",
              "      <th>cat9_13</th>\n",
              "      <th>cat9_14</th>\n",
              "    </tr>\n",
              "  </thead>\n",
              "  <tbody>\n",
              "    <tr>\n",
              "      <th>0</th>\n",
              "      <td>0.331261</td>\n",
              "      <td>0.551131</td>\n",
              "      <td>0.486284</td>\n",
              "      <td>0.156058</td>\n",
              "      <td>0.701679</td>\n",
              "      <td>0.595507</td>\n",
              "      <td>0.286912</td>\n",
              "      <td>0.279884</td>\n",
              "      <td>0.202234</td>\n",
              "      <td>0.242654</td>\n",
              "      <td>0.285147</td>\n",
              "      <td>0.264308</td>\n",
              "      <td>0.653654</td>\n",
              "      <td>0.302448</td>\n",
              "      <td>1</td>\n",
              "      <td>0</td>\n",
              "      <td>0</td>\n",
              "      <td>1</td>\n",
              "      <td>1</td>\n",
              "      <td>0</td>\n",
              "      <td>0</td>\n",
              "      <td>0</td>\n",
              "      <td>1</td>\n",
              "      <td>0</td>\n",
              "      <td>0</td>\n",
              "      <td>1</td>\n",
              "      <td>0</td>\n",
              "      <td>0</td>\n",
              "      <td>0</td>\n",
              "      <td>0</td>\n",
              "      <td>0</td>\n",
              "      <td>1</td>\n",
              "      <td>1</td>\n",
              "      <td>0</td>\n",
              "      <td>0</td>\n",
              "      <td>0</td>\n",
              "      <td>0</td>\n",
              "      <td>0</td>\n",
              "      <td>0</td>\n",
              "      <td>0</td>\n",
              "      <td>0</td>\n",
              "      <td>0</td>\n",
              "      <td>0</td>\n",
              "      <td>1</td>\n",
              "      <td>0</td>\n",
              "      <td>0</td>\n",
              "      <td>0</td>\n",
              "      <td>0</td>\n",
              "      <td>0</td>\n",
              "      <td>0</td>\n",
              "      <td>0</td>\n",
              "      <td>1</td>\n",
              "      <td>0</td>\n",
              "      <td>0</td>\n",
              "      <td>0</td>\n",
              "      <td>0</td>\n",
              "      <td>0</td>\n",
              "      <td>0</td>\n",
              "      <td>0</td>\n",
              "      <td>0</td>\n",
              "      <td>1</td>\n",
              "      <td>0</td>\n",
              "      <td>0</td>\n",
              "      <td>0</td>\n",
              "      <td>0</td>\n",
              "      <td>0</td>\n",
              "      <td>0</td>\n",
              "      <td>0</td>\n",
              "      <td>0</td>\n",
              "    </tr>\n",
              "    <tr>\n",
              "      <th>1</th>\n",
              "      <td>0.402404</td>\n",
              "      <td>0.617546</td>\n",
              "      <td>0.296852</td>\n",
              "      <td>0.187440</td>\n",
              "      <td>0.277480</td>\n",
              "      <td>0.479552</td>\n",
              "      <td>0.397436</td>\n",
              "      <td>0.476742</td>\n",
              "      <td>0.857073</td>\n",
              "      <td>0.516393</td>\n",
              "      <td>0.562065</td>\n",
              "      <td>0.730542</td>\n",
              "      <td>0.318492</td>\n",
              "      <td>0.736251</td>\n",
              "      <td>1</td>\n",
              "      <td>0</td>\n",
              "      <td>0</td>\n",
              "      <td>1</td>\n",
              "      <td>1</td>\n",
              "      <td>0</td>\n",
              "      <td>0</td>\n",
              "      <td>0</td>\n",
              "      <td>1</td>\n",
              "      <td>0</td>\n",
              "      <td>0</td>\n",
              "      <td>1</td>\n",
              "      <td>0</td>\n",
              "      <td>0</td>\n",
              "      <td>0</td>\n",
              "      <td>0</td>\n",
              "      <td>0</td>\n",
              "      <td>1</td>\n",
              "      <td>1</td>\n",
              "      <td>0</td>\n",
              "      <td>0</td>\n",
              "      <td>0</td>\n",
              "      <td>0</td>\n",
              "      <td>0</td>\n",
              "      <td>0</td>\n",
              "      <td>0</td>\n",
              "      <td>0</td>\n",
              "      <td>0</td>\n",
              "      <td>0</td>\n",
              "      <td>1</td>\n",
              "      <td>0</td>\n",
              "      <td>0</td>\n",
              "      <td>0</td>\n",
              "      <td>0</td>\n",
              "      <td>0</td>\n",
              "      <td>1</td>\n",
              "      <td>0</td>\n",
              "      <td>0</td>\n",
              "      <td>0</td>\n",
              "      <td>0</td>\n",
              "      <td>0</td>\n",
              "      <td>0</td>\n",
              "      <td>0</td>\n",
              "      <td>0</td>\n",
              "      <td>0</td>\n",
              "      <td>0</td>\n",
              "      <td>0</td>\n",
              "      <td>0</td>\n",
              "      <td>0</td>\n",
              "      <td>0</td>\n",
              "      <td>0</td>\n",
              "      <td>1</td>\n",
              "      <td>0</td>\n",
              "      <td>0</td>\n",
              "      <td>0</td>\n",
              "    </tr>\n",
              "    <tr>\n",
              "      <th>2</th>\n",
              "      <td>0.530677</td>\n",
              "      <td>0.618126</td>\n",
              "      <td>0.760865</td>\n",
              "      <td>0.199872</td>\n",
              "      <td>0.279508</td>\n",
              "      <td>0.676395</td>\n",
              "      <td>0.695284</td>\n",
              "      <td>0.253316</td>\n",
              "      <td>0.586934</td>\n",
              "      <td>0.548555</td>\n",
              "      <td>0.836193</td>\n",
              "      <td>0.759788</td>\n",
              "      <td>0.333572</td>\n",
              "      <td>0.273905</td>\n",
              "      <td>1</td>\n",
              "      <td>0</td>\n",
              "      <td>0</td>\n",
              "      <td>1</td>\n",
              "      <td>1</td>\n",
              "      <td>0</td>\n",
              "      <td>0</td>\n",
              "      <td>0</td>\n",
              "      <td>1</td>\n",
              "      <td>0</td>\n",
              "      <td>0</td>\n",
              "      <td>1</td>\n",
              "      <td>0</td>\n",
              "      <td>0</td>\n",
              "      <td>0</td>\n",
              "      <td>0</td>\n",
              "      <td>0</td>\n",
              "      <td>1</td>\n",
              "      <td>1</td>\n",
              "      <td>0</td>\n",
              "      <td>0</td>\n",
              "      <td>0</td>\n",
              "      <td>0</td>\n",
              "      <td>0</td>\n",
              "      <td>0</td>\n",
              "      <td>0</td>\n",
              "      <td>0</td>\n",
              "      <td>0</td>\n",
              "      <td>0</td>\n",
              "      <td>1</td>\n",
              "      <td>0</td>\n",
              "      <td>0</td>\n",
              "      <td>0</td>\n",
              "      <td>0</td>\n",
              "      <td>0</td>\n",
              "      <td>1</td>\n",
              "      <td>0</td>\n",
              "      <td>0</td>\n",
              "      <td>0</td>\n",
              "      <td>0</td>\n",
              "      <td>0</td>\n",
              "      <td>0</td>\n",
              "      <td>0</td>\n",
              "      <td>0</td>\n",
              "      <td>0</td>\n",
              "      <td>1</td>\n",
              "      <td>0</td>\n",
              "      <td>0</td>\n",
              "      <td>0</td>\n",
              "      <td>0</td>\n",
              "      <td>0</td>\n",
              "      <td>0</td>\n",
              "      <td>0</td>\n",
              "      <td>0</td>\n",
              "      <td>0</td>\n",
              "    </tr>\n",
              "    <tr>\n",
              "      <th>3</th>\n",
              "      <td>0.439653</td>\n",
              "      <td>0.487403</td>\n",
              "      <td>0.715786</td>\n",
              "      <td>0.192808</td>\n",
              "      <td>0.479503</td>\n",
              "      <td>0.759875</td>\n",
              "      <td>0.240049</td>\n",
              "      <td>0.298074</td>\n",
              "      <td>0.442475</td>\n",
              "      <td>0.596746</td>\n",
              "      <td>0.414131</td>\n",
              "      <td>0.255382</td>\n",
              "      <td>0.589080</td>\n",
              "      <td>0.311625</td>\n",
              "      <td>1</td>\n",
              "      <td>0</td>\n",
              "      <td>1</td>\n",
              "      <td>0</td>\n",
              "      <td>0</td>\n",
              "      <td>1</td>\n",
              "      <td>1</td>\n",
              "      <td>0</td>\n",
              "      <td>0</td>\n",
              "      <td>0</td>\n",
              "      <td>0</td>\n",
              "      <td>1</td>\n",
              "      <td>0</td>\n",
              "      <td>0</td>\n",
              "      <td>0</td>\n",
              "      <td>0</td>\n",
              "      <td>0</td>\n",
              "      <td>1</td>\n",
              "      <td>1</td>\n",
              "      <td>0</td>\n",
              "      <td>0</td>\n",
              "      <td>0</td>\n",
              "      <td>0</td>\n",
              "      <td>0</td>\n",
              "      <td>0</td>\n",
              "      <td>0</td>\n",
              "      <td>0</td>\n",
              "      <td>0</td>\n",
              "      <td>0</td>\n",
              "      <td>1</td>\n",
              "      <td>0</td>\n",
              "      <td>0</td>\n",
              "      <td>0</td>\n",
              "      <td>0</td>\n",
              "      <td>0</td>\n",
              "      <td>0</td>\n",
              "      <td>0</td>\n",
              "      <td>1</td>\n",
              "      <td>0</td>\n",
              "      <td>0</td>\n",
              "      <td>0</td>\n",
              "      <td>0</td>\n",
              "      <td>0</td>\n",
              "      <td>0</td>\n",
              "      <td>0</td>\n",
              "      <td>1</td>\n",
              "      <td>0</td>\n",
              "      <td>0</td>\n",
              "      <td>0</td>\n",
              "      <td>0</td>\n",
              "      <td>0</td>\n",
              "      <td>0</td>\n",
              "      <td>0</td>\n",
              "      <td>0</td>\n",
              "      <td>0</td>\n",
              "    </tr>\n",
              "    <tr>\n",
              "      <th>4</th>\n",
              "      <td>0.389844</td>\n",
              "      <td>0.752760</td>\n",
              "      <td>0.315269</td>\n",
              "      <td>0.191734</td>\n",
              "      <td>0.757845</td>\n",
              "      <td>0.210232</td>\n",
              "      <td>0.329851</td>\n",
              "      <td>0.616663</td>\n",
              "      <td>0.170475</td>\n",
              "      <td>0.263235</td>\n",
              "      <td>0.710961</td>\n",
              "      <td>0.224045</td>\n",
              "      <td>0.285860</td>\n",
              "      <td>0.794931</td>\n",
              "      <td>1</td>\n",
              "      <td>0</td>\n",
              "      <td>0</td>\n",
              "      <td>1</td>\n",
              "      <td>1</td>\n",
              "      <td>0</td>\n",
              "      <td>1</td>\n",
              "      <td>0</td>\n",
              "      <td>0</td>\n",
              "      <td>0</td>\n",
              "      <td>0</td>\n",
              "      <td>1</td>\n",
              "      <td>0</td>\n",
              "      <td>0</td>\n",
              "      <td>0</td>\n",
              "      <td>1</td>\n",
              "      <td>0</td>\n",
              "      <td>0</td>\n",
              "      <td>1</td>\n",
              "      <td>0</td>\n",
              "      <td>0</td>\n",
              "      <td>0</td>\n",
              "      <td>0</td>\n",
              "      <td>0</td>\n",
              "      <td>0</td>\n",
              "      <td>0</td>\n",
              "      <td>0</td>\n",
              "      <td>0</td>\n",
              "      <td>0</td>\n",
              "      <td>1</td>\n",
              "      <td>0</td>\n",
              "      <td>0</td>\n",
              "      <td>0</td>\n",
              "      <td>0</td>\n",
              "      <td>0</td>\n",
              "      <td>0</td>\n",
              "      <td>0</td>\n",
              "      <td>1</td>\n",
              "      <td>0</td>\n",
              "      <td>0</td>\n",
              "      <td>0</td>\n",
              "      <td>0</td>\n",
              "      <td>0</td>\n",
              "      <td>0</td>\n",
              "      <td>0</td>\n",
              "      <td>0</td>\n",
              "      <td>0</td>\n",
              "      <td>0</td>\n",
              "      <td>1</td>\n",
              "      <td>0</td>\n",
              "      <td>0</td>\n",
              "      <td>0</td>\n",
              "      <td>0</td>\n",
              "      <td>0</td>\n",
              "      <td>0</td>\n",
              "    </tr>\n",
              "    <tr>\n",
              "      <th>...</th>\n",
              "      <td>...</td>\n",
              "      <td>...</td>\n",
              "      <td>...</td>\n",
              "      <td>...</td>\n",
              "      <td>...</td>\n",
              "      <td>...</td>\n",
              "      <td>...</td>\n",
              "      <td>...</td>\n",
              "      <td>...</td>\n",
              "      <td>...</td>\n",
              "      <td>...</td>\n",
              "      <td>...</td>\n",
              "      <td>...</td>\n",
              "      <td>...</td>\n",
              "      <td>...</td>\n",
              "      <td>...</td>\n",
              "      <td>...</td>\n",
              "      <td>...</td>\n",
              "      <td>...</td>\n",
              "      <td>...</td>\n",
              "      <td>...</td>\n",
              "      <td>...</td>\n",
              "      <td>...</td>\n",
              "      <td>...</td>\n",
              "      <td>...</td>\n",
              "      <td>...</td>\n",
              "      <td>...</td>\n",
              "      <td>...</td>\n",
              "      <td>...</td>\n",
              "      <td>...</td>\n",
              "      <td>...</td>\n",
              "      <td>...</td>\n",
              "      <td>...</td>\n",
              "      <td>...</td>\n",
              "      <td>...</td>\n",
              "      <td>...</td>\n",
              "      <td>...</td>\n",
              "      <td>...</td>\n",
              "      <td>...</td>\n",
              "      <td>...</td>\n",
              "      <td>...</td>\n",
              "      <td>...</td>\n",
              "      <td>...</td>\n",
              "      <td>...</td>\n",
              "      <td>...</td>\n",
              "      <td>...</td>\n",
              "      <td>...</td>\n",
              "      <td>...</td>\n",
              "      <td>...</td>\n",
              "      <td>...</td>\n",
              "      <td>...</td>\n",
              "      <td>...</td>\n",
              "      <td>...</td>\n",
              "      <td>...</td>\n",
              "      <td>...</td>\n",
              "      <td>...</td>\n",
              "      <td>...</td>\n",
              "      <td>...</td>\n",
              "      <td>...</td>\n",
              "      <td>...</td>\n",
              "      <td>...</td>\n",
              "      <td>...</td>\n",
              "      <td>...</td>\n",
              "      <td>...</td>\n",
              "      <td>...</td>\n",
              "      <td>...</td>\n",
              "      <td>...</td>\n",
              "      <td>...</td>\n",
              "      <td>...</td>\n",
              "    </tr>\n",
              "    <tr>\n",
              "      <th>199995</th>\n",
              "      <td>0.919265</td>\n",
              "      <td>0.111147</td>\n",
              "      <td>0.199583</td>\n",
              "      <td>0.181354</td>\n",
              "      <td>0.277365</td>\n",
              "      <td>0.963678</td>\n",
              "      <td>0.240482</td>\n",
              "      <td>0.686462</td>\n",
              "      <td>0.915165</td>\n",
              "      <td>0.848878</td>\n",
              "      <td>0.459598</td>\n",
              "      <td>0.590327</td>\n",
              "      <td>0.864873</td>\n",
              "      <td>0.425258</td>\n",
              "      <td>1</td>\n",
              "      <td>0</td>\n",
              "      <td>1</td>\n",
              "      <td>0</td>\n",
              "      <td>1</td>\n",
              "      <td>0</td>\n",
              "      <td>0</td>\n",
              "      <td>0</td>\n",
              "      <td>1</td>\n",
              "      <td>0</td>\n",
              "      <td>0</td>\n",
              "      <td>1</td>\n",
              "      <td>0</td>\n",
              "      <td>0</td>\n",
              "      <td>0</td>\n",
              "      <td>0</td>\n",
              "      <td>0</td>\n",
              "      <td>1</td>\n",
              "      <td>1</td>\n",
              "      <td>0</td>\n",
              "      <td>0</td>\n",
              "      <td>0</td>\n",
              "      <td>0</td>\n",
              "      <td>0</td>\n",
              "      <td>0</td>\n",
              "      <td>0</td>\n",
              "      <td>0</td>\n",
              "      <td>0</td>\n",
              "      <td>0</td>\n",
              "      <td>1</td>\n",
              "      <td>0</td>\n",
              "      <td>0</td>\n",
              "      <td>0</td>\n",
              "      <td>0</td>\n",
              "      <td>0</td>\n",
              "      <td>0</td>\n",
              "      <td>0</td>\n",
              "      <td>0</td>\n",
              "      <td>0</td>\n",
              "      <td>1</td>\n",
              "      <td>0</td>\n",
              "      <td>0</td>\n",
              "      <td>0</td>\n",
              "      <td>0</td>\n",
              "      <td>0</td>\n",
              "      <td>0</td>\n",
              "      <td>0</td>\n",
              "      <td>0</td>\n",
              "      <td>0</td>\n",
              "      <td>0</td>\n",
              "      <td>0</td>\n",
              "      <td>1</td>\n",
              "      <td>0</td>\n",
              "      <td>0</td>\n",
              "      <td>0</td>\n",
              "    </tr>\n",
              "    <tr>\n",
              "      <th>199996</th>\n",
              "      <td>0.362875</td>\n",
              "      <td>-0.020197</td>\n",
              "      <td>0.469025</td>\n",
              "      <td>0.336185</td>\n",
              "      <td>0.523174</td>\n",
              "      <td>0.232072</td>\n",
              "      <td>0.363421</td>\n",
              "      <td>0.694092</td>\n",
              "      <td>0.137002</td>\n",
              "      <td>0.319465</td>\n",
              "      <td>0.364527</td>\n",
              "      <td>0.388908</td>\n",
              "      <td>0.664357</td>\n",
              "      <td>0.224215</td>\n",
              "      <td>1</td>\n",
              "      <td>0</td>\n",
              "      <td>1</td>\n",
              "      <td>0</td>\n",
              "      <td>1</td>\n",
              "      <td>0</td>\n",
              "      <td>0</td>\n",
              "      <td>0</td>\n",
              "      <td>1</td>\n",
              "      <td>0</td>\n",
              "      <td>0</td>\n",
              "      <td>1</td>\n",
              "      <td>0</td>\n",
              "      <td>0</td>\n",
              "      <td>0</td>\n",
              "      <td>0</td>\n",
              "      <td>0</td>\n",
              "      <td>1</td>\n",
              "      <td>1</td>\n",
              "      <td>0</td>\n",
              "      <td>0</td>\n",
              "      <td>0</td>\n",
              "      <td>0</td>\n",
              "      <td>0</td>\n",
              "      <td>0</td>\n",
              "      <td>0</td>\n",
              "      <td>0</td>\n",
              "      <td>0</td>\n",
              "      <td>0</td>\n",
              "      <td>1</td>\n",
              "      <td>0</td>\n",
              "      <td>0</td>\n",
              "      <td>0</td>\n",
              "      <td>0</td>\n",
              "      <td>0</td>\n",
              "      <td>0</td>\n",
              "      <td>0</td>\n",
              "      <td>1</td>\n",
              "      <td>0</td>\n",
              "      <td>0</td>\n",
              "      <td>0</td>\n",
              "      <td>0</td>\n",
              "      <td>0</td>\n",
              "      <td>0</td>\n",
              "      <td>0</td>\n",
              "      <td>1</td>\n",
              "      <td>0</td>\n",
              "      <td>0</td>\n",
              "      <td>0</td>\n",
              "      <td>0</td>\n",
              "      <td>0</td>\n",
              "      <td>0</td>\n",
              "      <td>0</td>\n",
              "      <td>0</td>\n",
              "      <td>0</td>\n",
              "    </tr>\n",
              "    <tr>\n",
              "      <th>199997</th>\n",
              "      <td>0.463060</td>\n",
              "      <td>0.740421</td>\n",
              "      <td>0.446293</td>\n",
              "      <td>0.411387</td>\n",
              "      <td>0.517103</td>\n",
              "      <td>0.432927</td>\n",
              "      <td>0.811876</td>\n",
              "      <td>0.328398</td>\n",
              "      <td>0.496017</td>\n",
              "      <td>0.538779</td>\n",
              "      <td>0.466338</td>\n",
              "      <td>0.643869</td>\n",
              "      <td>0.749590</td>\n",
              "      <td>0.457702</td>\n",
              "      <td>1</td>\n",
              "      <td>0</td>\n",
              "      <td>1</td>\n",
              "      <td>0</td>\n",
              "      <td>1</td>\n",
              "      <td>0</td>\n",
              "      <td>0</td>\n",
              "      <td>0</td>\n",
              "      <td>1</td>\n",
              "      <td>0</td>\n",
              "      <td>0</td>\n",
              "      <td>1</td>\n",
              "      <td>0</td>\n",
              "      <td>0</td>\n",
              "      <td>0</td>\n",
              "      <td>0</td>\n",
              "      <td>0</td>\n",
              "      <td>1</td>\n",
              "      <td>1</td>\n",
              "      <td>0</td>\n",
              "      <td>0</td>\n",
              "      <td>0</td>\n",
              "      <td>0</td>\n",
              "      <td>0</td>\n",
              "      <td>0</td>\n",
              "      <td>0</td>\n",
              "      <td>0</td>\n",
              "      <td>0</td>\n",
              "      <td>0</td>\n",
              "      <td>1</td>\n",
              "      <td>0</td>\n",
              "      <td>0</td>\n",
              "      <td>0</td>\n",
              "      <td>0</td>\n",
              "      <td>0</td>\n",
              "      <td>1</td>\n",
              "      <td>0</td>\n",
              "      <td>0</td>\n",
              "      <td>0</td>\n",
              "      <td>0</td>\n",
              "      <td>0</td>\n",
              "      <td>0</td>\n",
              "      <td>0</td>\n",
              "      <td>0</td>\n",
              "      <td>0</td>\n",
              "      <td>0</td>\n",
              "      <td>0</td>\n",
              "      <td>0</td>\n",
              "      <td>0</td>\n",
              "      <td>0</td>\n",
              "      <td>1</td>\n",
              "      <td>0</td>\n",
              "      <td>0</td>\n",
              "      <td>0</td>\n",
              "      <td>0</td>\n",
              "    </tr>\n",
              "    <tr>\n",
              "      <th>199998</th>\n",
              "      <td>0.708709</td>\n",
              "      <td>0.418490</td>\n",
              "      <td>0.193004</td>\n",
              "      <td>0.862700</td>\n",
              "      <td>0.279153</td>\n",
              "      <td>0.837712</td>\n",
              "      <td>0.680886</td>\n",
              "      <td>0.534439</td>\n",
              "      <td>0.501588</td>\n",
              "      <td>0.809053</td>\n",
              "      <td>0.631704</td>\n",
              "      <td>0.766426</td>\n",
              "      <td>0.937139</td>\n",
              "      <td>0.796304</td>\n",
              "      <td>1</td>\n",
              "      <td>0</td>\n",
              "      <td>0</td>\n",
              "      <td>1</td>\n",
              "      <td>1</td>\n",
              "      <td>0</td>\n",
              "      <td>1</td>\n",
              "      <td>0</td>\n",
              "      <td>0</td>\n",
              "      <td>0</td>\n",
              "      <td>0</td>\n",
              "      <td>1</td>\n",
              "      <td>0</td>\n",
              "      <td>0</td>\n",
              "      <td>0</td>\n",
              "      <td>0</td>\n",
              "      <td>0</td>\n",
              "      <td>1</td>\n",
              "      <td>1</td>\n",
              "      <td>0</td>\n",
              "      <td>0</td>\n",
              "      <td>0</td>\n",
              "      <td>0</td>\n",
              "      <td>0</td>\n",
              "      <td>0</td>\n",
              "      <td>0</td>\n",
              "      <td>0</td>\n",
              "      <td>0</td>\n",
              "      <td>0</td>\n",
              "      <td>1</td>\n",
              "      <td>0</td>\n",
              "      <td>0</td>\n",
              "      <td>0</td>\n",
              "      <td>0</td>\n",
              "      <td>0</td>\n",
              "      <td>1</td>\n",
              "      <td>0</td>\n",
              "      <td>0</td>\n",
              "      <td>0</td>\n",
              "      <td>0</td>\n",
              "      <td>0</td>\n",
              "      <td>0</td>\n",
              "      <td>0</td>\n",
              "      <td>0</td>\n",
              "      <td>0</td>\n",
              "      <td>1</td>\n",
              "      <td>0</td>\n",
              "      <td>0</td>\n",
              "      <td>0</td>\n",
              "      <td>0</td>\n",
              "      <td>0</td>\n",
              "      <td>0</td>\n",
              "      <td>0</td>\n",
              "      <td>0</td>\n",
              "      <td>0</td>\n",
              "    </tr>\n",
              "    <tr>\n",
              "      <th>199999</th>\n",
              "      <td>0.646432</td>\n",
              "      <td>0.484954</td>\n",
              "      <td>0.141289</td>\n",
              "      <td>0.753487</td>\n",
              "      <td>0.763246</td>\n",
              "      <td>0.792263</td>\n",
              "      <td>0.409425</td>\n",
              "      <td>0.285033</td>\n",
              "      <td>0.594721</td>\n",
              "      <td>0.824892</td>\n",
              "      <td>0.479586</td>\n",
              "      <td>0.683065</td>\n",
              "      <td>0.721518</td>\n",
              "      <td>0.722690</td>\n",
              "      <td>1</td>\n",
              "      <td>0</td>\n",
              "      <td>0</td>\n",
              "      <td>1</td>\n",
              "      <td>1</td>\n",
              "      <td>0</td>\n",
              "      <td>0</td>\n",
              "      <td>0</td>\n",
              "      <td>1</td>\n",
              "      <td>0</td>\n",
              "      <td>0</td>\n",
              "      <td>1</td>\n",
              "      <td>0</td>\n",
              "      <td>0</td>\n",
              "      <td>0</td>\n",
              "      <td>0</td>\n",
              "      <td>1</td>\n",
              "      <td>0</td>\n",
              "      <td>1</td>\n",
              "      <td>0</td>\n",
              "      <td>0</td>\n",
              "      <td>0</td>\n",
              "      <td>0</td>\n",
              "      <td>0</td>\n",
              "      <td>0</td>\n",
              "      <td>0</td>\n",
              "      <td>0</td>\n",
              "      <td>0</td>\n",
              "      <td>0</td>\n",
              "      <td>1</td>\n",
              "      <td>0</td>\n",
              "      <td>0</td>\n",
              "      <td>0</td>\n",
              "      <td>0</td>\n",
              "      <td>0</td>\n",
              "      <td>0</td>\n",
              "      <td>0</td>\n",
              "      <td>0</td>\n",
              "      <td>0</td>\n",
              "      <td>1</td>\n",
              "      <td>0</td>\n",
              "      <td>0</td>\n",
              "      <td>0</td>\n",
              "      <td>0</td>\n",
              "      <td>0</td>\n",
              "      <td>0</td>\n",
              "      <td>0</td>\n",
              "      <td>1</td>\n",
              "      <td>0</td>\n",
              "      <td>0</td>\n",
              "      <td>0</td>\n",
              "      <td>0</td>\n",
              "      <td>0</td>\n",
              "      <td>0</td>\n",
              "      <td>0</td>\n",
              "    </tr>\n",
              "  </tbody>\n",
              "</table>\n",
              "<p>200000 rows × 69 columns</p>\n",
              "</div>"
            ],
            "text/plain": [
              "           cont0     cont1     cont2  ...  cat9_12  cat9_13  cat9_14\n",
              "0       0.331261  0.551131  0.486284  ...        0        0        0\n",
              "1       0.402404  0.617546  0.296852  ...        0        0        0\n",
              "2       0.530677  0.618126  0.760865  ...        0        0        0\n",
              "3       0.439653  0.487403  0.715786  ...        0        0        0\n",
              "4       0.389844  0.752760  0.315269  ...        0        0        0\n",
              "...          ...       ...       ...  ...      ...      ...      ...\n",
              "199995  0.919265  0.111147  0.199583  ...        0        0        0\n",
              "199996  0.362875 -0.020197  0.469025  ...        0        0        0\n",
              "199997  0.463060  0.740421  0.446293  ...        0        0        0\n",
              "199998  0.708709  0.418490  0.193004  ...        0        0        0\n",
              "199999  0.646432  0.484954  0.141289  ...        0        0        0\n",
              "\n",
              "[200000 rows x 69 columns]"
            ]
          },
          "metadata": {
            "tags": []
          },
          "execution_count": 52
        }
      ]
    },
    {
      "cell_type": "code",
      "metadata": {
        "id": "WSiXSxx-kfXy"
      },
      "source": [
        "id = pd.read_csv(\"/content/test.csv\")\r\n",
        "id = id[\"id\"]"
      ],
      "execution_count": null,
      "outputs": []
    },
    {
      "cell_type": "code",
      "metadata": {
        "id": "MQd_fmNmkU9-"
      },
      "source": [
        "previsao = lgbm_regressor.predict(data_test)\r\n",
        "previsao = pd.Series(previsao, name=\"Previsão\")\r\n",
        "submission = pd.DataFrame({\"Id\": id, \"target\": previsao})\r\n",
        "submission.to_csv(\"submission.csv\", index=False)"
      ],
      "execution_count": null,
      "outputs": []
    },
    {
      "cell_type": "code",
      "metadata": {
        "colab": {
          "base_uri": "https://localhost:8080/",
          "height": 419
        },
        "id": "HU7XfwKOla2N",
        "outputId": "16634334-32e2-40fb-ca49-a695e316c601"
      },
      "source": [
        "submission"
      ],
      "execution_count": null,
      "outputs": [
        {
          "output_type": "execute_result",
          "data": {
            "text/html": [
              "<div>\n",
              "<style scoped>\n",
              "    .dataframe tbody tr th:only-of-type {\n",
              "        vertical-align: middle;\n",
              "    }\n",
              "\n",
              "    .dataframe tbody tr th {\n",
              "        vertical-align: top;\n",
              "    }\n",
              "\n",
              "    .dataframe thead th {\n",
              "        text-align: right;\n",
              "    }\n",
              "</style>\n",
              "<table border=\"1\" class=\"dataframe\">\n",
              "  <thead>\n",
              "    <tr style=\"text-align: right;\">\n",
              "      <th></th>\n",
              "      <th>Id</th>\n",
              "      <th>target</th>\n",
              "    </tr>\n",
              "  </thead>\n",
              "  <tbody>\n",
              "    <tr>\n",
              "      <th>0</th>\n",
              "      <td>0</td>\n",
              "      <td>7.550139</td>\n",
              "    </tr>\n",
              "    <tr>\n",
              "      <th>1</th>\n",
              "      <td>5</td>\n",
              "      <td>7.827831</td>\n",
              "    </tr>\n",
              "    <tr>\n",
              "      <th>2</th>\n",
              "      <td>15</td>\n",
              "      <td>7.574740</td>\n",
              "    </tr>\n",
              "    <tr>\n",
              "      <th>3</th>\n",
              "      <td>16</td>\n",
              "      <td>7.410421</td>\n",
              "    </tr>\n",
              "    <tr>\n",
              "      <th>4</th>\n",
              "      <td>17</td>\n",
              "      <td>7.253848</td>\n",
              "    </tr>\n",
              "    <tr>\n",
              "      <th>...</th>\n",
              "      <td>...</td>\n",
              "      <td>...</td>\n",
              "    </tr>\n",
              "    <tr>\n",
              "      <th>199995</th>\n",
              "      <td>499987</td>\n",
              "      <td>7.461026</td>\n",
              "    </tr>\n",
              "    <tr>\n",
              "      <th>199996</th>\n",
              "      <td>499990</td>\n",
              "      <td>7.245030</td>\n",
              "    </tr>\n",
              "    <tr>\n",
              "      <th>199997</th>\n",
              "      <td>499991</td>\n",
              "      <td>7.580754</td>\n",
              "    </tr>\n",
              "    <tr>\n",
              "      <th>199998</th>\n",
              "      <td>499994</td>\n",
              "      <td>7.403076</td>\n",
              "    </tr>\n",
              "    <tr>\n",
              "      <th>199999</th>\n",
              "      <td>499995</td>\n",
              "      <td>7.341449</td>\n",
              "    </tr>\n",
              "  </tbody>\n",
              "</table>\n",
              "<p>200000 rows × 2 columns</p>\n",
              "</div>"
            ],
            "text/plain": [
              "            Id    target\n",
              "0            0  7.550139\n",
              "1            5  7.827831\n",
              "2           15  7.574740\n",
              "3           16  7.410421\n",
              "4           17  7.253848\n",
              "...        ...       ...\n",
              "199995  499987  7.461026\n",
              "199996  499990  7.245030\n",
              "199997  499991  7.580754\n",
              "199998  499994  7.403076\n",
              "199999  499995  7.341449\n",
              "\n",
              "[200000 rows x 2 columns]"
            ]
          },
          "metadata": {
            "tags": []
          },
          "execution_count": 110
        }
      ]
    },
    {
      "cell_type": "code",
      "metadata": {
        "colab": {
          "base_uri": "https://localhost:8080/"
        },
        "id": "TKUeXBoPlfjP",
        "outputId": "cac981cc-fdd4-4287-f899-5756a48405ac"
      },
      "source": [
        "!kaggle competitions submit -c tabular-playground-series-feb-2021 -f submission.csv -m \"LGBM Regressor with One-Hot-Encoding\""
      ],
      "execution_count": null,
      "outputs": [
        {
          "output_type": "stream",
          "text": [
            "Warning: Looks like you're using an outdated API Version, please consider updating (server 1.5.10 / client 1.5.4)\n",
            "100% 4.73M/4.73M [00:08<00:00, 570kB/s]\n",
            "Successfully submitted to Tabular Playground Series - Feb 2021"
          ],
          "name": "stdout"
        }
      ]
    }
  ]
}